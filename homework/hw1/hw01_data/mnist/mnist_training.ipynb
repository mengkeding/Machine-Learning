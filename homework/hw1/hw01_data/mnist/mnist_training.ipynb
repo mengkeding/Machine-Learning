{
 "cells": [
  {
   "cell_type": "markdown",
   "metadata": {},
   "source": [
    "# MNIST dataset classification"
   ]
  },
  {
   "cell_type": "code",
   "execution_count": 1,
   "metadata": {
    "collapsed": true
   },
   "outputs": [],
   "source": [
    "import scipy.io as sio\n",
    "import numpy as np\n",
    "import random\n",
    "from sklearn.svm import SVC\n",
    "from sklearn.preprocessing import normalize\n",
    "import matplotlib.pyplot as plt\n",
    "import math\n",
    "import csv"
   ]
  },
  {
   "cell_type": "markdown",
   "metadata": {},
   "source": [
    "## Data partitioning"
   ]
  },
  {
   "cell_type": "code",
   "execution_count": 2,
   "metadata": {
    "collapsed": false
   },
   "outputs": [
    {
     "name": "stdout",
     "output_type": "stream",
     "text": [
      "{'__globals__': [], '__version__': '1.0', '__header__': b'MATLAB 5.0 MAT-file Platform: posix, Created on: Fri Jan 20 17:22:08 2017', 'trainX': array([[0, 0, 0, ..., 0, 0, 5],\n",
      "       [0, 0, 0, ..., 0, 0, 0],\n",
      "       [0, 0, 0, ..., 0, 0, 4],\n",
      "       ..., \n",
      "       [0, 0, 0, ..., 0, 0, 5],\n",
      "       [0, 0, 0, ..., 0, 0, 6],\n",
      "       [0, 0, 0, ..., 0, 0, 8]], dtype=int64)}\n"
     ]
    }
   ],
   "source": [
    "# Read in the file\n",
    "train_mat = sio.loadmat(\"train.mat\")\n",
    "print(train_mat)"
   ]
  },
  {
   "cell_type": "code",
   "execution_count": 3,
   "metadata": {
    "collapsed": false
   },
   "outputs": [
    {
     "data": {
      "text/plain": [
       "dict_keys(['__globals__', '__version__', '__header__', 'trainX'])"
      ]
     },
     "execution_count": 3,
     "metadata": {},
     "output_type": "execute_result"
    }
   ],
   "source": [
    "# Understand the data content\n",
    "train_mat.keys()"
   ]
  },
  {
   "cell_type": "code",
   "execution_count": 4,
   "metadata": {
    "collapsed": false
   },
   "outputs": [
    {
     "data": {
      "text/plain": [
       "array([[0, 0, 0, ..., 0, 0, 5],\n",
       "       [0, 0, 0, ..., 0, 0, 0],\n",
       "       [0, 0, 0, ..., 0, 0, 4],\n",
       "       ..., \n",
       "       [0, 0, 0, ..., 0, 0, 5],\n",
       "       [0, 0, 0, ..., 0, 0, 6],\n",
       "       [0, 0, 0, ..., 0, 0, 8]], dtype=int64)"
      ]
     },
     "execution_count": 4,
     "metadata": {},
     "output_type": "execute_result"
    }
   ],
   "source": [
    "# Get the training data\n",
    "train_data = train_mat['trainX']\n",
    "train_data"
   ]
  },
  {
   "cell_type": "code",
   "execution_count": 5,
   "metadata": {
    "collapsed": false
   },
   "outputs": [
    {
     "data": {
      "text/plain": [
       "(60000, 785)"
      ]
     },
     "execution_count": 5,
     "metadata": {},
     "output_type": "execute_result"
    }
   ],
   "source": [
    "# Check the amount of data in the training set\n",
    "train_data.shape"
   ]
  },
  {
   "cell_type": "code",
   "execution_count": 6,
   "metadata": {
    "collapsed": true
   },
   "outputs": [],
   "source": [
    "# Shuffle the whole provided data set\n",
    "np.random.shuffle(train_data)"
   ]
  },
  {
   "cell_type": "code",
   "execution_count": 7,
   "metadata": {
    "collapsed": false
   },
   "outputs": [],
   "source": [
    "# Set aside 10000 training images as a validation set\n",
    "validation_index = np.array(random.sample(range(train_data.shape[0]), 10000))\n",
    "validation_set = train_data[validation_index]"
   ]
  },
  {
   "cell_type": "code",
   "execution_count": 8,
   "metadata": {
    "collapsed": false
   },
   "outputs": [
    {
     "data": {
      "text/plain": [
       "(10000, 785)"
      ]
     },
     "execution_count": 8,
     "metadata": {},
     "output_type": "execute_result"
    }
   ],
   "source": [
    "# Verify the validation set size\n",
    "validation_set.shape"
   ]
  },
  {
   "cell_type": "code",
   "execution_count": 9,
   "metadata": {
    "collapsed": false
   },
   "outputs": [
    {
     "name": "stdout",
     "output_type": "stream",
     "text": [
      "(50000, 785)\n"
     ]
    }
   ],
   "source": [
    "# Construct the training set\n",
    "training_data = np.delete(train_data, validation_index, 0)\n",
    "print(training_data.shape)\n",
    "\n",
    "# Separate the label and data\n",
    "training_labels = training_data[:, 784]\n",
    "training_data = training_data[:, 0:784]"
   ]
  },
  {
   "cell_type": "code",
   "execution_count": 10,
   "metadata": {
    "collapsed": true
   },
   "outputs": [],
   "source": [
    "#Normalize the given data\n",
    "def normalize_data(data):\n",
    "    for i in range(data.shape[0]):\n",
    "        data[i] = normalize(data[0][:,np.newaxis], axis=0).ravel()\n",
    "    return data"
   ]
  },
  {
   "cell_type": "markdown",
   "metadata": {},
   "source": [
    "## SVM"
   ]
  },
  {
   "cell_type": "markdown",
   "metadata": {},
   "source": [
    "### Separate labels and data from validation_set"
   ]
  },
  {
   "cell_type": "code",
   "execution_count": 11,
   "metadata": {
    "collapsed": false
   },
   "outputs": [
    {
     "name": "stdout",
     "output_type": "stream",
     "text": [
      "(10000,)\n",
      "(10000, 784)\n"
     ]
    }
   ],
   "source": [
    "validation_labels = validation_set[:, 784]\n",
    "validation_data = validation_set[:, 0:784]\n",
    "print(validation_labels.shape)\n",
    "print(validation_data.shape)"
   ]
  },
  {
   "cell_type": "code",
   "execution_count": 30,
   "metadata": {
    "collapsed": false
   },
   "outputs": [
    {
     "name": "stderr",
     "output_type": "stream",
     "text": [
      "C:\\Users\\HENG\\Anaconda3\\envs\\ds100\\lib\\site-packages\\sklearn\\utils\\validation.py:429: DataConversionWarning: Data with input dtype int64 was converted to float64 by the normalize function.\n",
      "  warnings.warn(msg, _DataConversionWarning)\n"
     ]
    }
   ],
   "source": [
    "# Normalize the validation data\n",
    "#validation_data = normalize_data(validation_data)\n",
    "    "
   ]
  },
  {
   "cell_type": "markdown",
   "metadata": {},
   "source": [
    "### Training on n examples"
   ]
  },
  {
   "cell_type": "code",
   "execution_count": 13,
   "metadata": {
    "collapsed": false
   },
   "outputs": [],
   "source": [
    "accuracy_score = []\n",
    "training_accuracy_score = []\n",
    "def training_classifier(n, param = 1.0, l = accuracy_score, l2 = None):\n",
    "    # Get 100 training data\n",
    "    training_data1 = training_data[0:n]\n",
    "    training_labels1 = training_labels[0:n]\n",
    "    #print(training_data1.shape)\n",
    "    #print(training_labels1.shape)\n",
    "    # Build the SVC classifier\n",
    "    classifier1 = SVC(C = param, kernel='linear')\n",
    "    classifier1.fit(training_data1, training_labels1)\n",
    "    # Make prediction\n",
    "    score1 = classifier1.score(validation_data, validation_labels)\n",
    "    \n",
    "    #print(\"accuracy score\", score1)\n",
    "    l.append(score1)\n",
    "    if l2 != None:\n",
    "        score2 = classifier1.score(training_data, training_labels)\n",
    "        l2.append(score2)"
   ]
  },
  {
   "cell_type": "code",
   "execution_count": 53,
   "metadata": {
    "collapsed": false
   },
   "outputs": [
    {
     "name": "stdout",
     "output_type": "stream",
     "text": [
      "[0.75239999999999996, 0.80840000000000001, 0.87350000000000005, 0.88470000000000004, 0.89659999999999995, 0.90490000000000004, 0.9163]\n"
     ]
    }
   ],
   "source": [
    "training_size = [100, 200, 500, 1000, 2000, 5000, 10000]\n",
    "for n in training_size:\n",
    "    training_classifier(n, l = accuracy_score, l2 = training_accuracy_score)\n",
    "print(accuracy_score)"
   ]
  },
  {
   "cell_type": "markdown",
   "metadata": {},
   "source": [
    "## Plot the accuracy score "
   ]
  },
  {
   "cell_type": "code",
   "execution_count": 54,
   "metadata": {
    "collapsed": false
   },
   "outputs": [
    {
     "data": {
      "image/png": "[encoded data removed]",
      "text/plain": [
       "<matplotlib.figure.Figure at 0x21892da1a20>"
      ]
     },
     "metadata": {},
     "output_type": "display_data"
    }
   ],
   "source": [
    "plt.plot(training_size, accuracy_score, \"ro\")\n",
    "plt.ylabel(\"accuracy_score\")\n",
    "plt.xlabel(\"number of training examples\")\n",
    "plt.axis([0, 11000, 0, 1])\n",
    "plt.show()"
   ]
  },
  {
   "cell_type": "code",
   "execution_count": 55,
   "metadata": {
    "collapsed": false
   },
   "outputs": [
    {
     "name": "stdout",
     "output_type": "stream",
     "text": [
      "7\n"
     ]
    },
    {
     "data": {
      "image/png": "[encoded data removed]",
      "text/plain": [
       "<matplotlib.figure.Figure at 0x21892ee0898>"
      ]
     },
     "metadata": {},
     "output_type": "display_data"
    }
   ],
   "source": [
    "print(len(training_accuracy_score))\n",
    "plt.plot(training_size, training_accuracy_score, \"ro\")\n",
    "plt.ylabel(\"accuracy_score\")\n",
    "plt.xlabel(\"number of training examples\")\n",
    "plt.axis([0, 11000, 0, 1])\n",
    "plt.show()"
   ]
  },
  {
   "cell_type": "markdown",
   "metadata": {},
   "source": [
    "## Hyperparameter tuning"
   ]
  },
  {
   "cell_type": "code",
   "execution_count": 15,
   "metadata": {
    "collapsed": true
   },
   "outputs": [],
   "source": [
    "max_accuracy_with_size = []\n",
    "\n",
    "# Guess C values\n",
    "Cs = list(range(100, 10, -5)) + [math.pow(10, 1), math.pow(10, 0), math.pow(10, -1), math.pow(10, -2),\n",
    "      math.pow(10, -3), math.pow(10, -4), math.pow(10, -5),math.pow(10, -6), \n",
    "      math.pow(10, -7),math.pow(10, -8),math.pow(10, -10), math.pow(10, -20),\n",
    "      math.pow(10, -30)]"
   ]
  },
  {
   "cell_type": "code",
   "execution_count": null,
   "metadata": {
    "collapsed": true
   },
   "outputs": [],
   "source": [
    "def tunner_with_size(n, score_list):\n",
    "    for c in Cs:\n",
    "        training_classifier(n, param = c, l = score_list)"
   ]
  },
  {
   "cell_type": "code",
   "execution_count": 14,
   "metadata": {
    "collapsed": false
   },
   "outputs": [
    {
     "name": "stdout",
     "output_type": "stream",
     "text": [
      "[0.76329999999999998, 0.76329999999999998, 0.76329999999999998, 0.76329999999999998, 0.76329999999999998, 0.76329999999999998, 0.76329999999999998, 0.76329999999999998, 0.76329999999999998, 0.76329999999999998, 0.76329999999999998, 0.76329999999999998, 0.76329999999999998, 0.76329999999999998, 0.76329999999999998, 0.76329999999999998, 0.76329999999999998, 0.76329999999999998, 0.76329999999999998, 0.76329999999999998, 0.76329999999999998, 0.76329999999999998, 0.76329999999999998, 0.76329999999999998, 0.76329999999999998, 0.76300000000000001, 0.49759999999999999, 0.1004, 0.1004, 0.1004, 0.1004]\n"
     ]
    }
   ],
   "source": [
    "accuracy_score100 = []\n",
    "\n",
    "# Start finding the best parameter with 100 training examples\n",
    "'''\n",
    "for c in Cs:\n",
    "    training_classifier(100, param = c, l = accuracy_score100)\n",
    "'''\n",
    "tunner_with_size(100, accuracy_score100)\n",
    "print(accuracy_score100)\n",
    "max_accuracy_with_size.append(max(accuracy_score100))"
   ]
  },
  {
   "cell_type": "code",
   "execution_count": 16,
   "metadata": {
    "collapsed": false
   },
   "outputs": [
    {
     "name": "stdout",
     "output_type": "stream",
     "text": [
      "[0.81899999999999995, 0.81899999999999995, 0.81899999999999995, 0.81899999999999995, 0.81899999999999995, 0.81899999999999995, 0.81899999999999995, 0.81899999999999995, 0.81899999999999995, 0.81899999999999995, 0.81899999999999995, 0.81899999999999995, 0.81899999999999995, 0.81899999999999995, 0.81899999999999995, 0.81899999999999995, 0.81899999999999995, 0.81899999999999995, 0.81899999999999995, 0.81899999999999995, 0.81899999999999995, 0.81899999999999995, 0.81899999999999995, 0.81899999999999995, 0.81899999999999995, 0.81850000000000001, 0.75619999999999998, 0.106, 0.106, 0.106, 0.106]\n"
     ]
    }
   ],
   "source": [
    "accuracy_score200 = []\n",
    "# Start finding the best parameter with 200 training examples\n",
    "for c in Cs:\n",
    "    training_classifier(200, c, l = accuracy_score200)\n",
    "print(accuracy_score200)\n",
    "max_accuracy_with_size.append(max(accuracy_score200))"
   ]
  },
  {
   "cell_type": "code",
   "execution_count": 17,
   "metadata": {
    "collapsed": false
   },
   "outputs": [
    {
     "name": "stdout",
     "output_type": "stream",
     "text": [
      "[0.85170000000000001, 0.85170000000000001, 0.85170000000000001, 0.85170000000000001, 0.85170000000000001, 0.85170000000000001, 0.85170000000000001, 0.85170000000000001, 0.85170000000000001, 0.85170000000000001, 0.85170000000000001, 0.85170000000000001, 0.85170000000000001, 0.85170000000000001, 0.85170000000000001, 0.85170000000000001, 0.85170000000000001, 0.85170000000000001, 0.85170000000000001, 0.85170000000000001, 0.85170000000000001, 0.85170000000000001, 0.85170000000000001, 0.85170000000000001, 0.85170000000000001, 0.8589, 0.82599999999999996, 0.30759999999999998, 0.106, 0.106, 0.106]\n"
     ]
    }
   ],
   "source": [
    "accuracy_score500 = []\n",
    "# Start finding the best parameter with 200 training examples\n",
    "for c in Cs:\n",
    "    training_classifier(500, c, l = accuracy_score500)\n",
    "print(accuracy_score500)\n",
    "max_accuracy_with_size.append(max(accuracy_score500))"
   ]
  },
  {
   "cell_type": "code",
   "execution_count": 18,
   "metadata": {
    "collapsed": false
   },
   "outputs": [
    {
     "name": "stdout",
     "output_type": "stream",
     "text": [
      "[0.87939999999999996, 0.87939999999999996, 0.87939999999999996, 0.87939999999999996, 0.87939999999999996, 0.87939999999999996, 0.87939999999999996, 0.87939999999999996, 0.87939999999999996, 0.87939999999999996, 0.87939999999999996, 0.87939999999999996, 0.87939999999999996, 0.87939999999999996, 0.87939999999999996, 0.87939999999999996, 0.87939999999999996, 0.87939999999999996, 0.87939999999999996, 0.87939999999999996, 0.87939999999999996, 0.87939999999999996, 0.87939999999999996, 0.87939999999999996, 0.87939999999999996, 0.88460000000000005, 0.86929999999999996, 0.63449999999999995, 0.106, 0.106, 0.106]\n"
     ]
    }
   ],
   "source": [
    "accuracy_score1000 = []\n",
    "# Start finding the best parameter with 200 training examples\n",
    "for c in Cs:\n",
    "    training_classifier(1000, c, l = accuracy_score1000)\n",
    "print(accuracy_score1000)\n",
    "max_accuracy_with_size.append(max(accuracy_score1000))"
   ]
  },
  {
   "cell_type": "code",
   "execution_count": 19,
   "metadata": {
    "collapsed": false
   },
   "outputs": [
    {
     "name": "stdout",
     "output_type": "stream",
     "text": [
      "[0.88990000000000002, 0.88990000000000002, 0.88990000000000002, 0.88990000000000002, 0.88990000000000002, 0.88990000000000002, 0.88990000000000002, 0.88990000000000002, 0.88990000000000002, 0.88990000000000002, 0.88990000000000002, 0.88990000000000002, 0.88990000000000002, 0.88990000000000002, 0.88990000000000002, 0.88990000000000002, 0.88990000000000002, 0.88990000000000002, 0.88990000000000002, 0.88990000000000002, 0.88990000000000002, 0.88990000000000002, 0.88990000000000002, 0.88990000000000002, 0.88990000000000002, 0.90200000000000002, 0.89300000000000002, 0.78410000000000002, 0.106, 0.106, 0.106]\n"
     ]
    }
   ],
   "source": [
    "accuracy_score2000 = []\n",
    "# Start finding the best parameter with 200 training examples\n",
    "for c in Cs:\n",
    "    training_classifier(2000, c, l = accuracy_score2000)\n",
    "print(accuracy_score2000)\n",
    "max_accuracy_with_size.append(max(accuracy_score2000))"
   ]
  },
  {
   "cell_type": "code",
   "execution_count": 20,
   "metadata": {
    "collapsed": false
   },
   "outputs": [
    {
     "name": "stdout",
     "output_type": "stream",
     "text": [
      "[0.90529999999999999, 0.90529999999999999, 0.90529999999999999, 0.90529999999999999, 0.90529999999999999, 0.90529999999999999, 0.90529999999999999, 0.90529999999999999, 0.90529999999999999, 0.90529999999999999, 0.90529999999999999, 0.90529999999999999, 0.90529999999999999, 0.90529999999999999, 0.90529999999999999, 0.90529999999999999, 0.90529999999999999, 0.90529999999999999, 0.90529999999999999, 0.90529999999999999, 0.90529999999999999, 0.90529999999999999, 0.90529999999999999, 0.90529999999999999, 0.90539999999999998, 0.91969999999999996, 0.91149999999999998, 0.8649, 0.11409999999999999, 0.11409999999999999, 0.11409999999999999]\n"
     ]
    }
   ],
   "source": [
    "accuracy_score5000 = []\n",
    "# Start finding the best parameter with 200 training examples\n",
    "for c in Cs:\n",
    "    training_classifier(5000, c, l = accuracy_score5000)\n",
    "print(accuracy_score5000)\n",
    "max_accuracy_with_size.append(max(accuracy_score5000))"
   ]
  },
  {
   "cell_type": "code",
   "execution_count": null,
   "metadata": {
    "collapsed": false
   },
   "outputs": [],
   "source": [
    "max_accuracy_with_size.append(max(accuracy_score200))\n",
    "max_accuracy_with_size.append(max(accuracy_score500))\n",
    "max_accuracy_with_size.append(max(accuracy_score1000))\n",
    "max_accuracy_with_size.append(max(accuracy_score2000))\n",
    "max_accuracy_with_size.append(max(accuracy_score5000))\n",
    "accuracy_score10000 = []\n",
    "# Start finding the best parameter with 200 training examples\n",
    "for c in Cs:\n",
    "    training_classifier(10000, c, l = accuracy_score10000)\n",
    "print(accuracy_score10000)\n",
    "max_accuracy_with_size.append(max(accuracy_score10000))"
   ]
  },
  {
   "cell_type": "markdown",
   "metadata": {},
   "source": [
    "## Kaggle Prediction"
   ]
  },
  {
   "cell_type": "code",
   "execution_count": 23,
   "metadata": {
    "collapsed": false
   },
   "outputs": [
    {
     "data": {
      "text/plain": [
       "1e-06"
      ]
     },
     "execution_count": 23,
     "metadata": {},
     "output_type": "execute_result"
    }
   ],
   "source": [
    "best_accuracy_index = max_accuracy_with_size.index(max(max_accuracy_with_size))\n",
    "print(best_accuracy_index)\n",
    "best_c = Cs[7]\n",
    "best_c\n"
   ]
  },
  {
   "cell_type": "code",
   "execution_count": 24,
   "metadata": {
    "collapsed": false
   },
   "outputs": [
    {
     "name": "stdout",
     "output_type": "stream",
     "text": [
      "{'__globals__': [], '__header__': b'MATLAB 5.0 MAT-file Platform: posix, Created on: Fri Jan 20 17:22:25 2017', 'testX': array([[0, 0, 0, ..., 0, 0, 0],\n",
      "       [0, 0, 0, ..., 0, 0, 0],\n",
      "       [0, 0, 0, ..., 0, 0, 0],\n",
      "       ..., \n",
      "       [0, 0, 0, ..., 0, 0, 0],\n",
      "       [0, 0, 0, ..., 0, 0, 0],\n",
      "       [0, 0, 0, ..., 0, 0, 0]], dtype=int64), '__version__': '1.0'}\n",
      "dict_keys(['__globals__', '__header__', 'testX', '__version__'])\n"
     ]
    }
   ],
   "source": [
    "# Read in the test file\n",
    "test_mat = sio.loadmat(\"test.mat\")\n",
    "print(test_mat)\n",
    "print(test_mat.keys())"
   ]
  },
  {
   "cell_type": "code",
   "execution_count": 28,
   "metadata": {
    "collapsed": true
   },
   "outputs": [],
   "source": [
    "# Make predictions\n",
    "best_clf = SVC(C = best_c, kernel='linear')\n",
    "\n",
    "\n",
    "test_data = test_mat['testX']\n",
    "\n",
    "# Normalize the test data\n",
    "#test_data = normalize_data(test_data)\n",
    "\n",
    "best_clf.fit(training_data, training_labels)\n",
    "predictions = best_clf.predict(test_data)"
   ]
  },
  {
   "cell_type": "code",
   "execution_count": 29,
   "metadata": {
    "collapsed": true
   },
   "outputs": [],
   "source": [
    "i = 0\n",
    "with open('mnist_submission.csv', 'w', newline='') as outfile:\n",
    "    writer = csv.writer(outfile)\n",
    "    writer.writerow(['Id'] + ['Category'])\n",
    "    for num in predictions:\n",
    "        writer.writerow([i] + [num])\n",
    "        i += 1"
   ]
  },
  {
   "cell_type": "code",
   "execution_count": null,
   "metadata": {
    "collapsed": true
   },
   "outputs": [],
   "source": []
  }
 ],
 "metadata": {
  "kernelspec": {
   "display_name": "Python 3",
   "language": "python",
   "name": "python3"
  },
  "language_info": {
   "codemirror_mode": {
    "name": "ipython",
    "version": 3
   },
   "file_extension": ".py",
   "mimetype": "text/x-python",
   "name": "python",
   "nbconvert_exporter": "python",
   "pygments_lexer": "ipython3",
   "version": "3.5.2"
  }
 },
 "nbformat": 4,
 "nbformat_minor": 2
}
