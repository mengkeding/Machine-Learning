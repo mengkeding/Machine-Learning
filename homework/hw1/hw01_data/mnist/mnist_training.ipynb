{
 "cells": [
  {
   "cell_type": "markdown",
   "metadata": {},
   "source": [
    "# MNIST dataset classification"
   ]
  },
  {
   "cell_type": "code",
   "execution_count": 3,
   "metadata": {
    "collapsed": true
   },
   "outputs": [],
   "source": [
    "import scipy.io as sio\n",
    "import numpy as np\n",
    "import random\n",
    "from sklearn.svm import SVC\n",
    "import matplotlib.pyplot as plt\n",
    "import math\n",
    "import csv"
   ]
  },
  {
   "cell_type": "markdown",
   "metadata": {},
   "source": [
    "## Data partitioning"
   ]
  },
  {
   "cell_type": "code",
   "execution_count": 4,
   "metadata": {
    "collapsed": false
   },
   "outputs": [
    {
     "name": "stdout",
     "output_type": "stream",
     "text": [
      "{'__globals__': [], '__header__': b'MATLAB 5.0 MAT-file Platform: posix, Created on: Fri Jan 20 17:22:08 2017', 'trainX': array([[0, 0, 0, ..., 0, 0, 5],\n",
      "       [0, 0, 0, ..., 0, 0, 0],\n",
      "       [0, 0, 0, ..., 0, 0, 4],\n",
      "       ..., \n",
      "       [0, 0, 0, ..., 0, 0, 5],\n",
      "       [0, 0, 0, ..., 0, 0, 6],\n",
      "       [0, 0, 0, ..., 0, 0, 8]], dtype=int64), '__version__': '1.0'}\n"
     ]
    }
   ],
   "source": [
    "# Read in the file\n",
    "train_mat = sio.loadmat(\"train.mat\")\n",
    "print(train_mat)"
   ]
  },
  {
   "cell_type": "code",
   "execution_count": 5,
   "metadata": {
    "collapsed": false
   },
   "outputs": [
    {
     "data": {
      "text/plain": [
       "dict_keys(['__globals__', '__header__', 'trainX', '__version__'])"
      ]
     },
     "execution_count": 5,
     "metadata": {},
     "output_type": "execute_result"
    }
   ],
   "source": [
    "# Understand the data content\n",
    "train_mat.keys()"
   ]
  },
  {
   "cell_type": "code",
   "execution_count": 6,
   "metadata": {
    "collapsed": false
   },
   "outputs": [
    {
     "data": {
      "text/plain": [
       "array([[0, 0, 0, ..., 0, 0, 5],\n",
       "       [0, 0, 0, ..., 0, 0, 0],\n",
       "       [0, 0, 0, ..., 0, 0, 4],\n",
       "       ..., \n",
       "       [0, 0, 0, ..., 0, 0, 5],\n",
       "       [0, 0, 0, ..., 0, 0, 6],\n",
       "       [0, 0, 0, ..., 0, 0, 8]], dtype=int64)"
      ]
     },
     "execution_count": 6,
     "metadata": {},
     "output_type": "execute_result"
    }
   ],
   "source": [
    "# Get the training data\n",
    "train_data = train_mat['trainX']\n",
    "train_data"
   ]
  },
  {
   "cell_type": "code",
   "execution_count": 7,
   "metadata": {
    "collapsed": false
   },
   "outputs": [
    {
     "data": {
      "text/plain": [
       "(60000, 785)"
      ]
     },
     "execution_count": 7,
     "metadata": {},
     "output_type": "execute_result"
    }
   ],
   "source": [
    "# Check the amount of data in the training set\n",
    "train_data.shape"
   ]
  },
  {
   "cell_type": "code",
   "execution_count": 8,
   "metadata": {
    "collapsed": false
   },
   "outputs": [],
   "source": [
    "# Set aside 10000 training images as a validation set\n",
    "validation_index = np.array(random.sample(range(train_data.shape[0]), 10000))\n",
    "validation_set = train_data[validation_index]"
   ]
  },
  {
   "cell_type": "code",
   "execution_count": 9,
   "metadata": {
    "collapsed": false
   },
   "outputs": [
    {
     "data": {
      "text/plain": [
       "(10000, 785)"
      ]
     },
     "execution_count": 9,
     "metadata": {},
     "output_type": "execute_result"
    }
   ],
   "source": [
    "# Verify the validation set size\n",
    "validation_set.shape"
   ]
  },
  {
   "cell_type": "code",
   "execution_count": 10,
   "metadata": {
    "collapsed": false
   },
   "outputs": [
    {
     "name": "stdout",
     "output_type": "stream",
     "text": [
      "(50000, 785)\n"
     ]
    }
   ],
   "source": [
    "# Construct the training set\n",
    "training_data = np.delete(train_data, validation_index, 0)\n",
    "print(training_data.shape)"
   ]
  },
  {
   "cell_type": "markdown",
   "metadata": {},
   "source": [
    "## SVM"
   ]
  },
  {
   "cell_type": "markdown",
   "metadata": {},
   "source": [
    "### Separate labels and data from validation_set"
   ]
  },
  {
   "cell_type": "code",
   "execution_count": 11,
   "metadata": {
    "collapsed": false
   },
   "outputs": [
    {
     "name": "stdout",
     "output_type": "stream",
     "text": [
      "(10000,)\n",
      "(10000, 784)\n"
     ]
    }
   ],
   "source": [
    "validation_labels = validation_set[:, 784]\n",
    "validation_data = validation_set[:, 0:784]\n",
    "print(validation_labels.shape)\n",
    "print(validation_data.shape)"
   ]
  },
  {
   "cell_type": "markdown",
   "metadata": {},
   "source": [
    "### Training on n examples"
   ]
  },
  {
   "cell_type": "code",
   "execution_count": 12,
   "metadata": {
    "collapsed": false
   },
   "outputs": [],
   "source": [
    "accuracy_score = []\n",
    "def training_classifier(n, param = 1.0, l = accuracy_score):\n",
    "    # Get 100 training data\n",
    "    training_data1 = training_data[0:n, 0:784]\n",
    "    training_labels1 = training_data[0:n, 784]\n",
    "    print(training_data1.shape)\n",
    "    print(training_labels1.shape)\n",
    "    # Build the SVC classifier\n",
    "    classifier1 = SVC(C = param, kernel='linear')\n",
    "    classifier1.fit(training_data1, training_labels1)\n",
    "    # Make prediction\n",
    "    score1 = classifier1.score(validation_data, validation_labels)\n",
    "    print(\"accuracy score\", score1)\n",
    "    l.append(score1)"
   ]
  },
  {
   "cell_type": "code",
   "execution_count": 13,
   "metadata": {
    "collapsed": false
   },
   "outputs": [
    {
     "name": "stdout",
     "output_type": "stream",
     "text": [
      "(100, 784)\n",
      "(100,)\n",
      "accuracy score 0.6866\n",
      "(200, 784)\n",
      "(200,)\n",
      "accuracy score 0.767\n",
      "(500, 784)\n",
      "(500,)\n",
      "accuracy score 0.8557\n",
      "(1000, 784)\n",
      "(1000,)\n",
      "accuracy score 0.8695\n",
      "(2000, 784)\n",
      "(2000,)\n",
      "accuracy score 0.8903\n",
      "(5000, 784)\n",
      "(5000,)\n",
      "accuracy score 0.9085\n",
      "(10000, 784)\n",
      "(10000,)\n",
      "accuracy score 0.9135\n",
      "[0.68659999999999999, 0.76700000000000002, 0.85570000000000002, 0.86950000000000005, 0.89029999999999998, 0.90849999999999997, 0.91349999999999998]\n"
     ]
    }
   ],
   "source": [
    "training_size = [100, 200, 500, 1000, 2000, 5000, 10000]\n",
    "for n in training_size:\n",
    "    training_classifier(n, l = accuracy_score)\n",
    "print(accuracy_score)"
   ]
  },
  {
   "cell_type": "markdown",
   "metadata": {},
   "source": [
    "## Plot the accuracy score "
   ]
  },
  {
   "cell_type": "code",
   "execution_count": 14,
   "metadata": {
    "collapsed": false
   },
   "outputs": [
    {
     "data": {
      "image/png": "[encoded data removed]",
      "text/plain": [
       "<matplotlib.figure.Figure at 0x26dfe8f5ef0>"
      ]
     },
     "metadata": {},
     "output_type": "display_data"
    }
   ],
   "source": [
    "plt.plot(training_size, accuracy_score, \"ro\")\n",
    "plt.ylabel(\"accuracy_score\")\n",
    "plt.xlabel(\"number of training examples\")\n",
    "plt.axis([0, 11000, 0, 1])\n",
    "plt.show()"
   ]
  },
  {
   "cell_type": "markdown",
   "metadata": {},
   "source": [
    "## Hyperparameter tuning"
   ]
  },
  {
   "cell_type": "code",
   "execution_count": 15,
   "metadata": {
    "collapsed": false
   },
   "outputs": [
    {
     "name": "stdout",
     "output_type": "stream",
     "text": [
      "(100, 784)\n",
      "(100,)\n",
      "accuracy score 0.6866\n",
      "(100, 784)\n",
      "(100,)\n",
      "accuracy score 0.6866\n",
      "(100, 784)\n",
      "(100,)\n",
      "accuracy score 0.6866\n",
      "(100, 784)\n",
      "(100,)\n",
      "accuracy score 0.6866\n",
      "(100, 784)\n",
      "(100,)\n",
      "accuracy score 0.6866\n",
      "(100, 784)\n",
      "(100,)\n",
      "accuracy score 0.6866\n",
      "(100, 784)\n",
      "(100,)\n",
      "accuracy score 0.6866\n",
      "(100, 784)\n",
      "(100,)\n",
      "accuracy score 0.6876\n",
      "(100, 784)\n",
      "(100,)\n",
      "accuracy score 0.4679\n",
      "(100, 784)\n",
      "(100,)\n",
      "accuracy score 0.1091\n",
      "(100, 784)\n",
      "(100,)\n",
      "accuracy score 0.1091\n",
      "(100, 784)\n",
      "(100,)\n",
      "accuracy score 0.1091\n",
      "(100, 784)\n",
      "(100,)\n",
      "accuracy score 0.1091\n",
      "[0.68659999999999999, 0.68659999999999999, 0.68659999999999999, 0.68659999999999999, 0.68659999999999999, 0.68659999999999999, 0.68659999999999999, 0.68759999999999999, 0.46789999999999998, 0.1091, 0.1091, 0.1091, 0.1091]\n"
     ]
    }
   ],
   "source": [
    "# Guess C values\n",
    "Cs = [math.pow(10, 1), math.pow(10, 0), math.pow(10, -1), math.pow(10, -2),\n",
    "      math.pow(10, -3), math.pow(10, -4), math.pow(10, -5),math.pow(10, -6), \n",
    "      math.pow(10, -7),math.pow(10, -8),math.pow(10, -10), math.pow(10, -20),\n",
    "      math.pow(10, -30)]\n",
    "accuracy_score100 = []\n",
    "\n",
    "# Start finding the best parameter with 100 training examples\n",
    "for c in Cs:\n",
    "    training_classifier(100, c, accuracy_score100)\n",
    "print(accuracy_score100)"
   ]
  },
  {
   "cell_type": "code",
   "execution_count": 16,
   "metadata": {
    "collapsed": false
   },
   "outputs": [
    {
     "name": "stdout",
     "output_type": "stream",
     "text": [
      "(200, 784)\n",
      "(200,)\n",
      "accuracy score 0.767\n",
      "(200, 784)\n",
      "(200,)\n",
      "accuracy score 0.767\n",
      "(200, 784)\n",
      "(200,)\n",
      "accuracy score 0.767\n",
      "(200, 784)\n",
      "(200,)\n",
      "accuracy score 0.767\n",
      "(200, 784)\n",
      "(200,)\n",
      "accuracy score 0.767\n",
      "(200, 784)\n",
      "(200,)\n",
      "accuracy score 0.767\n",
      "(200, 784)\n",
      "(200,)\n",
      "accuracy score 0.767\n",
      "(200, 784)\n",
      "(200,)\n",
      "accuracy score 0.7641\n",
      "(200, 784)\n",
      "(200,)\n",
      "accuracy score 0.655\n",
      "(200, 784)\n",
      "(200,)\n",
      "accuracy score 0.1269\n",
      "(200, 784)\n",
      "(200,)\n",
      "accuracy score 0.1091\n",
      "(200, 784)\n",
      "(200,)\n",
      "accuracy score 0.1091\n",
      "(200, 784)\n",
      "(200,)\n",
      "accuracy score 0.1091\n",
      "[0.76700000000000002, 0.76700000000000002, 0.76700000000000002, 0.76700000000000002, 0.76700000000000002, 0.76700000000000002, 0.76700000000000002, 0.7641, 0.65500000000000003, 0.12690000000000001, 0.1091, 0.1091, 0.1091]\n"
     ]
    }
   ],
   "source": [
    "accuracy_score200 = []\n",
    "# Start finding the best parameter with 200 training examples\n",
    "for c in Cs:\n",
    "    training_classifier(200, c, accuracy_score200)\n",
    "print(accuracy_score200)"
   ]
  },
  {
   "cell_type": "code",
   "execution_count": 17,
   "metadata": {
    "collapsed": false
   },
   "outputs": [
    {
     "name": "stdout",
     "output_type": "stream",
     "text": [
      "(500, 784)\n",
      "(500,)\n",
      "accuracy score 0.8557\n",
      "(500, 784)\n",
      "(500,)\n",
      "accuracy score 0.8557\n",
      "(500, 784)\n",
      "(500,)\n",
      "accuracy score 0.8557\n",
      "(500, 784)\n",
      "(500,)\n",
      "accuracy score 0.8557\n",
      "(500, 784)\n",
      "(500,)\n",
      "accuracy score 0.8557\n",
      "(500, 784)\n",
      "(500,)\n",
      "accuracy score 0.8557\n",
      "(500, 784)\n",
      "(500,)\n",
      "accuracy score 0.8557\n",
      "(500, 784)\n",
      "(500,)\n",
      "accuracy score 0.8579\n",
      "(500, 784)\n",
      "(500,)\n",
      "accuracy score 0.8169\n",
      "(500, 784)\n",
      "(500,)\n",
      "accuracy score 0.3228\n",
      "(500, 784)\n",
      "(500,)\n",
      "accuracy score 0.1091\n",
      "(500, 784)\n",
      "(500,)\n",
      "accuracy score 0.1091\n",
      "(500, 784)\n",
      "(500,)\n",
      "accuracy score 0.1091\n",
      "[0.85570000000000002, 0.85570000000000002, 0.85570000000000002, 0.85570000000000002, 0.85570000000000002, 0.85570000000000002, 0.85570000000000002, 0.8579, 0.81689999999999996, 0.32279999999999998, 0.1091, 0.1091, 0.1091]\n"
     ]
    }
   ],
   "source": [
    "accuracy_score500 = []\n",
    "# Start finding the best parameter with 200 training examples\n",
    "for c in Cs:\n",
    "    training_classifier(500, c, accuracy_score500)\n",
    "print(accuracy_score500)"
   ]
  },
  {
   "cell_type": "code",
   "execution_count": 18,
   "metadata": {
    "collapsed": false
   },
   "outputs": [
    {
     "name": "stdout",
     "output_type": "stream",
     "text": [
      "(1000, 784)\n",
      "(1000,)\n",
      "accuracy score 0.8695\n",
      "(1000, 784)\n",
      "(1000,)\n",
      "accuracy score 0.8695\n",
      "(1000, 784)\n",
      "(1000,)\n",
      "accuracy score 0.8695\n",
      "(1000, 784)\n",
      "(1000,)\n",
      "accuracy score 0.8695\n",
      "(1000, 784)\n",
      "(1000,)\n",
      "accuracy score 0.8695\n",
      "(1000, 784)\n",
      "(1000,)\n",
      "accuracy score 0.8695\n",
      "(1000, 784)\n",
      "(1000,)\n",
      "accuracy score 0.8695\n",
      "(1000, 784)\n",
      "(1000,)\n",
      "accuracy score 0.8778\n",
      "(1000, 784)\n",
      "(1000,)\n",
      "accuracy score 0.8599\n",
      "(1000, 784)\n",
      "(1000,)\n",
      "accuracy score 0.5906\n",
      "(1000, 784)\n",
      "(1000,)\n",
      "accuracy score 0.1045\n",
      "(1000, 784)\n",
      "(1000,)\n",
      "accuracy score 0.1045\n",
      "(1000, 784)\n",
      "(1000,)\n",
      "accuracy score 0.1045\n",
      "[0.86950000000000005, 0.86950000000000005, 0.86950000000000005, 0.86950000000000005, 0.86950000000000005, 0.86950000000000005, 0.86950000000000005, 0.87780000000000002, 0.8599, 0.59060000000000001, 0.1045, 0.1045, 0.1045]\n"
     ]
    }
   ],
   "source": [
    "accuracy_score1000 = []\n",
    "# Start finding the best parameter with 200 training examples\n",
    "for c in Cs:\n",
    "    training_classifier(1000, c, accuracy_score1000)\n",
    "print(accuracy_score1000)"
   ]
  },
  {
   "cell_type": "code",
   "execution_count": null,
   "metadata": {
    "collapsed": false
   },
   "outputs": [
    {
     "name": "stdout",
     "output_type": "stream",
     "text": [
      "(2000, 784)\n",
      "(2000,)\n",
      "accuracy score 0.8903\n",
      "(2000, 784)\n",
      "(2000,)\n",
      "accuracy score 0.8903\n",
      "(2000, 784)\n",
      "(2000,)\n",
      "accuracy score 0.8903\n",
      "(2000, 784)\n",
      "(2000,)\n",
      "accuracy score 0.8903\n",
      "(2000, 784)\n",
      "(2000,)\n",
      "accuracy score 0.8903\n",
      "(2000, 784)\n",
      "(2000,)\n",
      "accuracy score 0.8903\n",
      "(2000, 784)\n",
      "(2000,)\n",
      "accuracy score 0.8903\n",
      "(2000, 784)\n",
      "(2000,)\n",
      "accuracy score 0.8942\n",
      "(2000, 784)\n",
      "(2000,)\n",
      "accuracy score 0.889\n",
      "(2000, 784)\n",
      "(2000,)\n",
      "accuracy score 0.7999\n",
      "(2000, 784)\n",
      "(2000,)\n",
      "accuracy score 0.1045\n",
      "(2000, 784)\n",
      "(2000,)\n",
      "accuracy score 0.1045\n",
      "(2000, 784)\n",
      "(2000,)\n",
      "accuracy score 0.1045\n",
      "[0.89029999999999998, 0.89029999999999998, 0.89029999999999998, 0.89029999999999998, 0.89029999999999998, 0.89029999999999998, 0.89029999999999998, 0.89419999999999999, 0.88900000000000001, 0.79990000000000006, 0.1045, 0.1045, 0.1045]\n"
     ]
    }
   ],
   "source": [
    "accuracy_score2000 = []\n",
    "# Start finding the best parameter with 200 training examples\n",
    "for c in Cs:\n",
    "    training_classifier(2000, c, accuracy_score2000)\n",
    "print(accuracy_score2000)"
   ]
  },
  {
   "cell_type": "code",
   "execution_count": null,
   "metadata": {
    "collapsed": false
   },
   "outputs": [
    {
     "name": "stdout",
     "output_type": "stream",
     "text": [
      "(5000, 784)\n",
      "(5000,)\n",
      "accuracy score 0.9085\n",
      "(5000, 784)\n",
      "(5000,)\n",
      "accuracy score 0.9085\n",
      "(5000, 784)\n",
      "(5000,)\n",
      "accuracy score 0.9085\n",
      "(5000, 784)\n",
      "(5000,)\n",
      "accuracy score 0.9085\n",
      "(5000, 784)\n",
      "(5000,)\n"
     ]
    }
   ],
   "source": [
    "accuracy_score5000 = []\n",
    "# Start finding the best parameter with 200 training examples\n",
    "for c in Cs:\n",
    "    training_classifier(5000, c, accuracy_score5000)\n",
    "print(accuracy_score5000)"
   ]
  },
  {
   "cell_type": "code",
   "execution_count": null,
   "metadata": {
    "collapsed": false
   },
   "outputs": [],
   "source": [
    "accuracy_score10000 = []\n",
    "# Start finding the best parameter with 200 training examples\n",
    "for c in Cs:\n",
    "    training_classifier(10000, c, accuracy_score10000)\n",
    "print(accuracy_score10000)"
   ]
  },
  {
   "cell_type": "markdown",
   "metadata": {},
   "source": [
    "Plot the relationship between the number of training example and the C value"
   ]
  },
  {
   "cell_type": "code",
   "execution_count": null,
   "metadata": {
    "collapsed": false
   },
   "outputs": [],
   "source": [
    "plt.plot(Cs, accuracy_score100, 'ro', Cs, accuracy_score200, 'bo', \n",
    "         Cs, accuracy_score500, 'yo', Cs, accuracy_score1000, 'ko',\n",
    "         Cs, accuracy_score2000, 'mo', Cs, accuracy_score5000, 'co',\n",
    "         Cs, accuracy_score1000, 'go')\n",
    "plt.axis([-0.5, 11, 0.65, 0.95])\n",
    "plt.xlabel(\"C parameters\")\n",
    "plt.ylabel(\"accuracy score\")\n",
    "plt.show()"
   ]
  },
  {
   "cell_type": "markdown",
   "metadata": {},
   "source": [
    "## Kaggle Prediction"
   ]
  },
  {
   "cell_type": "code",
   "execution_count": null,
   "metadata": {
    "collapsed": false
   },
   "outputs": [],
   "source": [
    "best_c = Cs[7]\n",
    "best_c\n"
   ]
  },
  {
   "cell_type": "code",
   "execution_count": null,
   "metadata": {
    "collapsed": false
   },
   "outputs": [],
   "source": [
    "# Read in the test file\n",
    "test_mat = sio.loadmat(\"test.mat\")\n",
    "print(test_mat)\n",
    "print(test_mat.keys())"
   ]
  },
  {
   "cell_type": "code",
   "execution_count": null,
   "metadata": {
    "collapsed": true
   },
   "outputs": [],
   "source": [
    "test_data = test_mat['testX']"
   ]
  },
  {
   "cell_type": "code",
   "execution_count": null,
   "metadata": {
    "collapsed": true
   },
   "outputs": [],
   "source": [
    "# Make predictions\n",
    "best_clf = SVC(C = best_c, kernel='linear')\n",
    "training_data2 = training_data[0:10000, 0:784]\n",
    "training_labels2 = training_data[0:10000, 784]\n",
    "best_clf.fit(training_data2, training_labels2)\n",
    "predictions = best_clf.predict(test_data)"
   ]
  },
  {
   "cell_type": "code",
   "execution_count": null,
   "metadata": {
    "collapsed": true
   },
   "outputs": [],
   "source": [
    "i = 0\n",
    "with open('mnist_submission.csv', 'w', newline='') as outfile:\n",
    "    writer = csv.writer(outfile)\n",
    "    writer.writerow(['Id'] + ['Category'])\n",
    "    for num in predictions:\n",
    "        writer.writerow([i] + [num])\n",
    "        i += 1"
   ]
  },
  {
   "cell_type": "code",
   "execution_count": null,
   "metadata": {
    "collapsed": true
   },
   "outputs": [],
   "source": []
  }
 ],
 "metadata": {
  "kernelspec": {
   "display_name": "Python 3",
   "language": "python",
   "name": "python3"
  },
  "language_info": {
   "codemirror_mode": {
    "name": "ipython",
    "version": 3
   },
   "file_extension": ".py",
   "mimetype": "text/x-python",
   "name": "python",
   "nbconvert_exporter": "python",
   "pygments_lexer": "ipython3",
   "version": "3.5.2"
  }
 },
 "nbformat": 4,
 "nbformat_minor": 2
}
