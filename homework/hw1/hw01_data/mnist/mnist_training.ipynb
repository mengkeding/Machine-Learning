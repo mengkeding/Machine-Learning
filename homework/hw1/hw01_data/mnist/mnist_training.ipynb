{
 "cells": [
  {
   "cell_type": "markdown",
   "metadata": {},
   "source": [
    "# MNIST dataset classification"
   ]
  },
  {
   "cell_type": "code",
   "execution_count": 1,
   "metadata": {
    "collapsed": true
   },
   "outputs": [],
   "source": [
    "import scipy.io as sio\n",
    "import numpy as np\n",
    "import random\n",
    "from sklearn.svm import SVC\n",
    "from sklearn.preprocessing import normalize\n",
    "import matplotlib.pyplot as plt\n",
    "import math\n",
    "import csv"
   ]
  },
  {
   "cell_type": "markdown",
   "metadata": {},
   "source": [
    "## Data partitioning"
   ]
  },
  {
   "cell_type": "code",
   "execution_count": 2,
   "metadata": {
    "collapsed": false
   },
   "outputs": [
    {
     "name": "stdout",
     "output_type": "stream",
     "text": [
      "{'__globals__': [], '__header__': b'MATLAB 5.0 MAT-file Platform: posix, Created on: Fri Jan 20 17:22:08 2017', 'trainX': array([[0, 0, 0, ..., 0, 0, 5],\n",
      "       [0, 0, 0, ..., 0, 0, 0],\n",
      "       [0, 0, 0, ..., 0, 0, 4],\n",
      "       ..., \n",
      "       [0, 0, 0, ..., 0, 0, 5],\n",
      "       [0, 0, 0, ..., 0, 0, 6],\n",
      "       [0, 0, 0, ..., 0, 0, 8]]), '__version__': '1.0'}\n"
     ]
    }
   ],
   "source": [
    "# Read in the file\n",
    "train_mat = sio.loadmat(\"train.mat\")\n",
    "print(train_mat)"
   ]
  },
  {
   "cell_type": "code",
   "execution_count": 3,
   "metadata": {
    "collapsed": false
   },
   "outputs": [
    {
     "data": {
      "text/plain": [
       "dict_keys(['__globals__', '__header__', 'trainX', '__version__'])"
      ]
     },
     "execution_count": 3,
     "metadata": {},
     "output_type": "execute_result"
    }
   ],
   "source": [
    "# Understand the data content\n",
    "train_mat.keys()"
   ]
  },
  {
   "cell_type": "code",
   "execution_count": 4,
   "metadata": {
    "collapsed": false
   },
   "outputs": [
    {
     "data": {
      "text/plain": [
       "array([[0, 0, 0, ..., 0, 0, 5],\n",
       "       [0, 0, 0, ..., 0, 0, 0],\n",
       "       [0, 0, 0, ..., 0, 0, 4],\n",
       "       ..., \n",
       "       [0, 0, 0, ..., 0, 0, 5],\n",
       "       [0, 0, 0, ..., 0, 0, 6],\n",
       "       [0, 0, 0, ..., 0, 0, 8]])"
      ]
     },
     "execution_count": 4,
     "metadata": {},
     "output_type": "execute_result"
    }
   ],
   "source": [
    "# Get the training data\n",
    "data_set = train_mat['trainX']\n",
    "data_set"
   ]
  },
  {
   "cell_type": "code",
   "execution_count": 5,
   "metadata": {
    "collapsed": false
   },
   "outputs": [
    {
     "data": {
      "text/plain": [
       "(60000, 785)"
      ]
     },
     "execution_count": 5,
     "metadata": {},
     "output_type": "execute_result"
    }
   ],
   "source": [
    "# Check the amount of data in the training set\n",
    "data_set.shape"
   ]
  },
  {
   "cell_type": "code",
   "execution_count": 6,
   "metadata": {
    "collapsed": true
   },
   "outputs": [],
   "source": [
    "# Shuffle the whole provided data set\n",
    "np.random.shuffle(data_set)"
   ]
  },
  {
   "cell_type": "code",
   "execution_count": 7,
   "metadata": {
    "collapsed": false
   },
   "outputs": [],
   "source": [
    "# Set aside 10000 training images as a validation set\n",
    "validation_index = np.array(random.sample(range(data_set.shape[0]), 10000))\n",
    "validation_set = data_set[validation_index]"
   ]
  },
  {
   "cell_type": "code",
   "execution_count": 8,
   "metadata": {
    "collapsed": false
   },
   "outputs": [
    {
     "data": {
      "text/plain": [
       "(10000, 785)"
      ]
     },
     "execution_count": 8,
     "metadata": {},
     "output_type": "execute_result"
    }
   ],
   "source": [
    "# Verify the validation set size\n",
    "validation_set.shape"
   ]
  },
  {
   "cell_type": "code",
   "execution_count": 9,
   "metadata": {
    "collapsed": false
   },
   "outputs": [
    {
     "name": "stdout",
     "output_type": "stream",
     "text": [
      "(50000, 785)\n"
     ]
    }
   ],
   "source": [
    "# Construct the training set\n",
    "training_data = np.delete(data_set, validation_index, 0)\n",
    "print(training_data.shape)\n",
    "\n",
    "# Separate the label and data\n",
    "training_labels = training_data[:, 784]\n",
    "training_data = training_data[:, 0:784]"
   ]
  },
  {
   "cell_type": "code",
   "execution_count": 13,
   "metadata": {
    "collapsed": true
   },
   "outputs": [],
   "source": [
    "# Normalize the given data\n",
    "def normalize_data(data):\n",
    "    result_data = np.zeros(data.shape)\n",
    "    for i in range(data.shape[0]):\n",
    "        result_data[i] = normalize(data[i][:,np.newaxis], axis=0).ravel()\n",
    "    return result_data"
   ]
  },
  {
   "cell_type": "markdown",
   "metadata": {},
   "source": [
    "## SVM"
   ]
  },
  {
   "cell_type": "markdown",
   "metadata": {},
   "source": [
    "### Separate labels and data from validation_set"
   ]
  },
  {
   "cell_type": "code",
   "execution_count": 11,
   "metadata": {
    "collapsed": false
   },
   "outputs": [
    {
     "name": "stdout",
     "output_type": "stream",
     "text": [
      "(10000,)\n",
      "(10000, 784)\n"
     ]
    }
   ],
   "source": [
    "validation_labels = validation_set[:, 784]\n",
    "validation_data = validation_set[:, 0:784]\n",
    "print(validation_labels.shape)\n",
    "print(validation_data.shape)"
   ]
  },
  {
   "cell_type": "code",
   "execution_count": 14,
   "metadata": {
    "collapsed": false
   },
   "outputs": [
    {
     "name": "stderr",
     "output_type": "stream",
     "text": [
      "/Users/juntan/anaconda3/envs/datascience/lib/python3.5/site-packages/sklearn/utils/validation.py:429: DataConversionWarning: Data with input dtype int64 was converted to float64 by the normalize function.\n",
      "  warnings.warn(msg, _DataConversionWarning)\n"
     ]
    }
   ],
   "source": [
    "# Normalize the validation data\n",
    "norm_validation_data = normalize_data(validation_data)\n",
    "\n",
    "# Normalize the training data\n",
    "norm_training_data = normalize_data(training_data)\n",
    "    "
   ]
  },
  {
   "cell_type": "markdown",
   "metadata": {},
   "source": [
    "### Training on n examples"
   ]
  },
  {
   "cell_type": "code",
   "execution_count": 17,
   "metadata": {
    "collapsed": false
   },
   "outputs": [],
   "source": [
    "accuracy_score = []\n",
    "training_accuracy_score = []\n",
    "def training_classifier(n, param = 1.0, l = accuracy_score, l2 = None):\n",
    "    # Get 100 training data\n",
    "    training_data1 = norm_training_data[0:n]\n",
    "    training_labels1 = training_labels[0:n]\n",
    "    #print(training_data1.shape)\n",
    "    #print(training_labels1.shape)\n",
    "    # Build the SVC classifier\n",
    "    classifier1 = SVC(C = param, kernel='linear')\n",
    "    classifier1.fit(training_data1, training_labels1)\n",
    "    # Make prediction\n",
    "    score1 = classifier1.score(norm_validation_data, validation_labels)\n",
    "    \n",
    "    #print(\"accuracy score\", score1)\n",
    "    l.append(score1)\n",
    "    if l2 != None:\n",
    "        score2 = classifier1.score(norm_training_data, training_labels)\n",
    "        l2.append(score2)"
   ]
  },
  {
   "cell_type": "code",
   "execution_count": 19,
   "metadata": {
    "collapsed": false
   },
   "outputs": [
    {
     "name": "stdout",
     "output_type": "stream",
     "text": [
      "[0.68030000000000002, 0.83309999999999995, 0.87070000000000003, 0.89349999999999996, 0.90869999999999995, 0.9204, 0.92979999999999996]\n"
     ]
    }
   ],
   "source": [
    "training_size = [100, 200, 500, 1000, 2000, 5000, 10000]\n",
    "for n in training_size:\n",
    "    training_classifier(n, l = accuracy_score, l2 = training_accuracy_score)\n",
    "print(accuracy_score)"
   ]
  },
  {
   "cell_type": "markdown",
   "metadata": {},
   "source": [
    "## Plot the accuracy score "
   ]
  },
  {
   "cell_type": "code",
   "execution_count": 20,
   "metadata": {
    "collapsed": false
   },
   "outputs": [
    {
     "data": {
      "image/png": "[encoded data removed]",
      "text/plain": [
       "<matplotlib.figure.Figure at 0x10dc33c18>"
      ]
     },
     "metadata": {},
     "output_type": "display_data"
    }
   ],
   "source": [
    "plt.plot(training_size, accuracy_score, \"ro\")\n",
    "plt.ylabel(\"accuracy_score\")\n",
    "plt.xlabel(\"number of training examples\")\n",
    "plt.axis([0, 11000, 0, 1])\n",
    "plt.show()"
   ]
  },
  {
   "cell_type": "code",
   "execution_count": 21,
   "metadata": {
    "collapsed": false
   },
   "outputs": [
    {
     "name": "stdout",
     "output_type": "stream",
     "text": [
      "7\n"
     ]
    },
    {
     "data": {
      "image/png": "[encoded data removed]",
      "text/plain": [
       "<matplotlib.figure.Figure at 0x10da7d9b0>"
      ]
     },
     "metadata": {},
     "output_type": "display_data"
    }
   ],
   "source": [
    "plt.plot(training_size, training_accuracy_score, \"ro\")\n",
    "plt.ylabel(\"accuracy_score\")\n",
    "plt.xlabel(\"number of training examples\")\n",
    "plt.axis([0, 11000, 0, 1])\n",
    "plt.show()"
   ]
  },
  {
   "cell_type": "markdown",
   "metadata": {},
   "source": [
    "## Hyperparameter tuning"
   ]
  },
  {
   "cell_type": "code",
   "execution_count": 22,
   "metadata": {
    "collapsed": true
   },
   "outputs": [],
   "source": [
    "max_accuracy_with_size = []\n",
    "\n",
    "# Guess C values\n",
    "Cs = list(range(100, 10, -5)) + [math.pow(10, 1), math.pow(10, 0), math.pow(10, -1), math.pow(10, -2),\n",
    "      math.pow(10, -3), math.pow(10, -4), math.pow(10, -5),math.pow(10, -6), \n",
    "      math.pow(10, -7),math.pow(10, -8),math.pow(10, -10), math.pow(10, -20),\n",
    "      math.pow(10, -30)]"
   ]
  },
  {
   "cell_type": "code",
   "execution_count": 23,
   "metadata": {
    "collapsed": true
   },
   "outputs": [],
   "source": [
    "def tunner_with_size(n, score_list):\n",
    "    for c in Cs:\n",
    "        training_classifier(n, param = c, l = score_list)"
   ]
  },
  {
   "cell_type": "code",
   "execution_count": 24,
   "metadata": {
    "collapsed": false
   },
   "outputs": [
    {
     "name": "stdout",
     "output_type": "stream",
     "text": [
      "[0.78869999999999996, 0.78869999999999996, 0.78869999999999996, 0.78869999999999996, 0.78869999999999996, 0.78869999999999996, 0.78869999999999996, 0.78869999999999996, 0.78869999999999996, 0.78869999999999996, 0.78869999999999996, 0.78869999999999996, 0.78869999999999996, 0.78869999999999996, 0.78869999999999996, 0.78869999999999996, 0.78869999999999996, 0.78869999999999996, 0.78869999999999996, 0.68030000000000002, 0.1114, 0.1114, 0.1114, 0.1114, 0.1114, 0.1114, 0.1114, 0.1114, 0.1114, 0.1114, 0.1114]\n",
      "[0.78869999999999996]\n"
     ]
    }
   ],
   "source": [
    "accuracy_score100 = []\n",
    "\n",
    "# Start finding the best parameter with 100 training examples\n",
    "tunner_with_size(100, accuracy_score100)\n",
    "print(accuracy_score100)\n",
    "max_accuracy_with_size.append(max(accuracy_score100))\n",
    "print(max_accuracy_with_size)"
   ]
  },
  {
   "cell_type": "code",
   "execution_count": 26,
   "metadata": {
    "collapsed": false
   },
   "outputs": [
    {
     "name": "stdout",
     "output_type": "stream",
     "text": [
      "[0.84209999999999996, 0.84209999999999996, 0.84209999999999996, 0.84209999999999996, 0.84209999999999996, 0.84209999999999996, 0.84209999999999996, 0.84209999999999996, 0.84209999999999996, 0.84209999999999996, 0.84209999999999996, 0.84209999999999996, 0.84209999999999996, 0.84209999999999996, 0.84209999999999996, 0.84209999999999996, 0.84209999999999996, 0.84209999999999996, 0.84219999999999995, 0.83309999999999995, 0.1212, 0.1114, 0.1114, 0.1114, 0.1114, 0.1114, 0.1114, 0.1114, 0.1114, 0.1114, 0.1114]\n"
     ]
    }
   ],
   "source": [
    "accuracy_score200 = []\n",
    "# Start finding the best parameter with 200 training examples\n",
    "tunner_with_size(200, accuracy_score200)\n",
    "print(accuracy_score200)\n",
    "max_accuracy_with_size.append(max(accuracy_score200))"
   ]
  },
  {
   "cell_type": "code",
   "execution_count": 27,
   "metadata": {
    "collapsed": false
   },
   "outputs": [
    {
     "name": "stdout",
     "output_type": "stream",
     "text": [
      "[0.87029999999999996, 0.87029999999999996, 0.87029999999999996, 0.87029999999999996, 0.87029999999999996, 0.87029999999999996, 0.87029999999999996, 0.87029999999999996, 0.87029999999999996, 0.87029999999999996, 0.87029999999999996, 0.87029999999999996, 0.87029999999999996, 0.87029999999999996, 0.87029999999999996, 0.87029999999999996, 0.87029999999999996, 0.87019999999999997, 0.86939999999999995, 0.87070000000000003, 0.60599999999999998, 0.10630000000000001, 0.10630000000000001, 0.10630000000000001, 0.10630000000000001, 0.10630000000000001, 0.10630000000000001, 0.10630000000000001, 0.10630000000000001, 0.10630000000000001, 0.10630000000000001]\n"
     ]
    }
   ],
   "source": [
    "accuracy_score500 = []\n",
    "# Start finding the best parameter with 500 training examples\n",
    "tunner_with_size(500, accuracy_score500)\n",
    "print(accuracy_score500)\n",
    "max_accuracy_with_size.append(max(accuracy_score500))"
   ]
  },
  {
   "cell_type": "code",
   "execution_count": 28,
   "metadata": {
    "collapsed": false
   },
   "outputs": [
    {
     "name": "stdout",
     "output_type": "stream",
     "text": [
      "[0.87819999999999998, 0.87819999999999998, 0.87819999999999998, 0.87819999999999998, 0.87819999999999998, 0.87819999999999998, 0.87819999999999998, 0.87819999999999998, 0.87819999999999998, 0.87819999999999998, 0.87819999999999998, 0.87819999999999998, 0.87819999999999998, 0.87819999999999998, 0.87819999999999998, 0.87819999999999998, 0.87890000000000001, 0.88170000000000004, 0.88370000000000004, 0.89349999999999996, 0.79769999999999996, 0.10630000000000001, 0.10630000000000001, 0.10630000000000001, 0.10630000000000001, 0.10630000000000001, 0.10630000000000001, 0.10630000000000001, 0.10630000000000001, 0.10630000000000001, 0.10630000000000001]\n"
     ]
    }
   ],
   "source": [
    "accuracy_score1000 = []\n",
    "# Start finding the best parameter with 200 training examples\n",
    "tunner_with_size(1000, accuracy_score1000)\n",
    "print(accuracy_score1000)\n",
    "max_accuracy_with_size.append(max(accuracy_score1000))"
   ]
  },
  {
   "cell_type": "code",
   "execution_count": 29,
   "metadata": {
    "collapsed": false
   },
   "outputs": [
    {
     "name": "stdout",
     "output_type": "stream",
     "text": [
      "[0.89529999999999998, 0.89529999999999998, 0.89529999999999998, 0.89529999999999998, 0.89529999999999998, 0.89529999999999998, 0.89529999999999998, 0.89529999999999998, 0.89529999999999998, 0.89529999999999998, 0.89529999999999998, 0.89529999999999998, 0.89529999999999998, 0.89570000000000005, 0.89570000000000005, 0.89639999999999997, 0.89729999999999999, 0.89929999999999999, 0.90200000000000002, 0.90869999999999995, 0.86180000000000001, 0.2122, 0.10630000000000001, 0.10630000000000001, 0.10630000000000001, 0.10630000000000001, 0.10630000000000001, 0.10630000000000001, 0.10630000000000001, 0.10630000000000001, 0.10630000000000001]\n"
     ]
    }
   ],
   "source": [
    "accuracy_score2000 = []\n",
    "# Start finding the best parameter with 2000 training examples\n",
    "tunner_with_size(2000, accuracy_score2000)\n",
    "print(accuracy_score2000)\n",
    "max_accuracy_with_size.append(max(accuracy_score2000))"
   ]
  },
  {
   "cell_type": "code",
   "execution_count": 30,
   "metadata": {
    "collapsed": false
   },
   "outputs": [
    {
     "name": "stdout",
     "output_type": "stream",
     "text": [
      "[0.9022, 0.90229999999999999, 0.90229999999999999, 0.90249999999999997, 0.90269999999999995, 0.90300000000000002, 0.90329999999999999, 0.90359999999999996, 0.90439999999999998, 0.90439999999999998, 0.90459999999999996, 0.90590000000000004, 0.90629999999999999, 0.90700000000000003, 0.90969999999999995, 0.91190000000000004, 0.91449999999999998, 0.91549999999999998, 0.91869999999999996, 0.9204, 0.89539999999999997, 0.62309999999999999, 0.1114, 0.1114, 0.1114, 0.1114, 0.1114, 0.1114, 0.1114, 0.1114, 0.1114]\n"
     ]
    }
   ],
   "source": [
    "accuracy_score5000 = []\n",
    "# Start finding the best parameter with 5000 training examples\n",
    "tunner_with_size(5000, accuracy_score5000)\n",
    "print(accuracy_score5000)\n",
    "max_accuracy_with_size.append(max(accuracy_score5000))"
   ]
  },
  {
   "cell_type": "code",
   "execution_count": null,
   "metadata": {
    "collapsed": false
   },
   "outputs": [],
   "source": [
    "accuracy_score10000 = []\n",
    "# Start finding the best parameter with 200 training examples\n",
    "tunner_with_size(10000, accuracy_score10000)\n",
    "print(accuracy_score10000)\n",
    "max_accuracy_with_size.append(max(accuracy_score10000))"
   ]
  },
  {
   "cell_type": "code",
   "execution_count": null,
   "metadata": {
    "collapsed": true
   },
   "outputs": [],
   "source": [
    "print(max_accuracy_with_sizesizeth_size)"
   ]
  },
  {
   "cell_type": "markdown",
   "metadata": {},
   "source": [
    "## Kaggle Prediction"
   ]
  },
  {
   "cell_type": "code",
   "execution_count": 28,
   "metadata": {
    "collapsed": false
   },
   "outputs": [
    {
     "data": {
      "text/plain": [
       "1e-06"
      ]
     },
     "execution_count": 28,
     "metadata": {},
     "output_type": "execute_result"
    }
   ],
   "source": [
    "#best_accuracy_index = max_accuracy_with_size.index(max(max_accuracy_with_size))\n",
    "#print(best_accuracy_index)\n",
    "best_c = math.pow(10, -6)\n",
    "best_c\n"
   ]
  },
  {
   "cell_type": "code",
   "execution_count": 29,
   "metadata": {
    "collapsed": false
   },
   "outputs": [
    {
     "name": "stdout",
     "output_type": "stream",
     "text": [
      "{'__header__': b'MATLAB 5.0 MAT-file Platform: posix, Created on: Fri Jan 20 17:22:25 2017', '__version__': '1.0', '__globals__': [], 'testX': array([[0, 0, 0, ..., 0, 0, 0],\n",
      "       [0, 0, 0, ..., 0, 0, 0],\n",
      "       [0, 0, 0, ..., 0, 0, 0],\n",
      "       ..., \n",
      "       [0, 0, 0, ..., 0, 0, 0],\n",
      "       [0, 0, 0, ..., 0, 0, 0],\n",
      "       [0, 0, 0, ..., 0, 0, 0]])}\n",
      "dict_keys(['__header__', '__version__', '__globals__', 'testX'])\n"
     ]
    }
   ],
   "source": [
    "# Read in the test file\n",
    "test_mat = sio.loadmat(\"test.mat\")\n",
    "print(test_mat)\n",
    "print(test_mat.keys())"
   ]
  },
  {
   "cell_type": "code",
   "execution_count": null,
   "metadata": {
    "collapsed": false
   },
   "outputs": [
    {
     "name": "stderr",
     "output_type": "stream",
     "text": [
      "/Users/juntan/anaconda3/envs/datascience/lib/python3.5/site-packages/sklearn/utils/validation.py:429: DataConversionWarning: Data with input dtype int64 was converted to float64 by the normalize function.\n",
      "  warnings.warn(msg, _DataConversionWarning)\n"
     ]
    }
   ],
   "source": [
    "# Make predictions\n",
    "best_clf = SVC(C = best_c, kernel='linear')\n",
    "\n",
    "\n",
    "test_data = test_mat['testX']\n",
    "\n",
    "# Normalize the test data\n",
    "norm_test_data = normalize_data(test_data)\n",
    "\n",
    "best_clf.fit(norm_training_data, training_labels)\n",
    "predictions = best_clf.predict(norm_test_data)"
   ]
  },
  {
   "cell_type": "code",
   "execution_count": null,
   "metadata": {
    "collapsed": true
   },
   "outputs": [],
   "source": [
    "i = 0\n",
    "with open('mnist_submission.csv', 'w', newline='') as outfile:\n",
    "    writer = csv.writer(outfile)\n",
    "    writer.writerow(['Id'] + ['Category'])\n",
    "    for num in predictions:\n",
    "        writer.writerow([i] + [num])\n",
    "        i += 1"
   ]
  },
  {
   "cell_type": "code",
   "execution_count": null,
   "metadata": {
    "collapsed": true
   },
   "outputs": [],
   "source": []
  }
 ],
 "metadata": {
  "kernelspec": {
   "display_name": "Python 3",
   "language": "python",
   "name": "python3"
  },
  "language_info": {
   "codemirror_mode": {
    "name": "ipython",
    "version": 3
   },
   "file_extension": ".py",
   "mimetype": "text/x-python",
   "name": "python",
   "nbconvert_exporter": "python",
   "pygments_lexer": "ipython3",
   "version": "3.5.2"
  }
 },
 "nbformat": 4,
 "nbformat_minor": 2
}
