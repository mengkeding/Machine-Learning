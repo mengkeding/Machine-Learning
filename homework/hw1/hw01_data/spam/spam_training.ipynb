{
 "cells": [
  {
   "cell_type": "markdown",
   "metadata": {},
   "source": [
    "# Spam dataset classification"
   ]
  },
  {
   "cell_type": "code",
   "execution_count": 1,
   "metadata": {
    "collapsed": true
   },
   "outputs": [],
   "source": [
    "import scipy.io as sio\n",
    "import numpy as np\n",
    "import random\n",
    "import math\n",
    "from sklearn.svm import SVC\n",
    "import matplotlib.pyplot as plt\n",
    "from sklearn.model_selection import cross_val_score\n",
    "import csv\n",
    "from sklearn.utils import shuffle\n",
    "from sklearn.preprocessing import normalize"
   ]
  },
  {
   "cell_type": "markdown",
   "metadata": {},
   "source": [
    "## Data partitioning"
   ]
  },
  {
   "cell_type": "code",
   "execution_count": 33,
   "metadata": {
    "collapsed": false
   },
   "outputs": [
    {
     "name": "stdout",
     "output_type": "stream",
     "text": [
      "{'__header__': b'MATLAB 5.0 MAT-file Platform: posix, Created on: Fri Jan 20 17:22:51 2017', 'training_data': array([[ 0.,  0.,  0., ...,  0.,  0.,  0.],\n",
      "       [ 0.,  0.,  0., ...,  0.,  0.,  0.],\n",
      "       [ 0.,  0.,  0., ...,  0.,  0.,  0.],\n",
      "       ..., \n",
      "       [ 0.,  0.,  0., ...,  0.,  0.,  0.],\n",
      "       [ 0.,  0.,  1., ...,  4.,  0.,  0.],\n",
      "       [ 0.,  0.,  0., ...,  2.,  0.,  0.]]), '__globals__': [], 'test_data': array([[ 0.,  0.,  0., ...,  0.,  0.,  0.],\n",
      "       [ 0.,  0.,  0., ...,  0.,  0.,  0.],\n",
      "       [ 0.,  0.,  0., ...,  0.,  0.,  0.],\n",
      "       ..., \n",
      "       [ 0.,  0.,  0., ...,  0.,  0.,  0.],\n",
      "       [ 0.,  0.,  0., ...,  0.,  0.,  0.],\n",
      "       [ 0.,  0.,  0., ...,  3.,  0.,  0.]]), '__version__': '1.0', 'training_labels': array([[1, 1, 1, ..., 0, 0, 0]])}\n"
     ]
    }
   ],
   "source": [
    "# Read in the file\n",
    "train_mat = sio.loadmat(\"spam_data.mat\")\n",
    "print(train_mat)"
   ]
  },
  {
   "cell_type": "code",
   "execution_count": 34,
   "metadata": {
    "collapsed": false
   },
   "outputs": [
    {
     "data": {
      "text/plain": [
       "dict_keys(['__header__', 'training_data', '__globals__', 'test_data', '__version__', 'training_labels'])"
      ]
     },
     "execution_count": 34,
     "metadata": {},
     "output_type": "execute_result"
    }
   ],
   "source": [
    "# Understand the data content\n",
    "train_mat.keys()"
   ]
  },
  {
   "cell_type": "code",
   "execution_count": 37,
   "metadata": {
    "collapsed": false
   },
   "outputs": [],
   "source": [
    "# Get the training data\n",
    "train_data = train_mat['training_data']"
   ]
  },
  {
   "cell_type": "code",
   "execution_count": 38,
   "metadata": {
    "collapsed": false
   },
   "outputs": [],
   "source": [
    "# Get the training label\n",
    "train_labels = train_mat['training_labels'][0]"
   ]
  },
  {
   "cell_type": "code",
   "execution_count": 39,
   "metadata": {
    "collapsed": false
   },
   "outputs": [
    {
     "name": "stdout",
     "output_type": "stream",
     "text": [
      "(5172, 32)\n",
      "(5172,)\n"
     ]
    }
   ],
   "source": [
    "# Check the amount of data in the training set\n",
    "print(train_data.shape)\n",
    "print(train_labels.shape)"
   ]
  },
  {
   "cell_type": "code",
   "execution_count": 43,
   "metadata": {
    "collapsed": false
   },
   "outputs": [],
   "source": [
    "# Shuffle the data\n",
    "train_data, train_labels = shuffle(train_data, train_labels, random_state=0)"
   ]
  },
  {
   "cell_type": "code",
   "execution_count": 44,
   "metadata": {
    "collapsed": false
   },
   "outputs": [],
   "source": [
    "# Set aside 20% training sample as a validation set\n",
    "size = int(math.ceil(train_data.shape[0] * 0.2))\n",
    "validation_index = np.array(random.sample(range(train_data.shape[0]), size))\n",
    "validation_data = train_data[validation_index]\n",
    "validation_labels = train_labels[validation_index]"
   ]
  },
  {
   "cell_type": "code",
   "execution_count": 45,
   "metadata": {
    "collapsed": false
   },
   "outputs": [
    {
     "name": "stdout",
     "output_type": "stream",
     "text": [
      "(1035, 32)\n",
      "(1035,)\n"
     ]
    }
   ],
   "source": [
    "# Verify the validation set size\n",
    "print(validation_data.shape )\n",
    "print(validation_labels.shape)"
   ]
  },
  {
   "cell_type": "code",
   "execution_count": 46,
   "metadata": {
    "collapsed": false
   },
   "outputs": [
    {
     "name": "stdout",
     "output_type": "stream",
     "text": [
      "(4137, 32)\n",
      "(4137,)\n"
     ]
    }
   ],
   "source": [
    "# Construct the training set\n",
    "training_data = np.delete(train_data, validation_index, 0)\n",
    "training_labels = np.delete(train_labels, validation_index, 0)\n",
    "print(training_data.shape)\n",
    "print(training_labels.shape)"
   ]
  },
  {
   "cell_type": "code",
   "execution_count": 49,
   "metadata": {
    "collapsed": true
   },
   "outputs": [],
   "source": [
    "#Normalize the given data\n",
    "def normalize_data(data):\n",
    "    result_data = np.zeros(data.shape)\n",
    "    for i in range(data.shape[0]):\n",
    "        result_data[i] = normalize(data[i][:,np.newaxis], axis=0).ravel()\n",
    "    return result_data"
   ]
  },
  {
   "cell_type": "markdown",
   "metadata": {},
   "source": [
    "## SVM"
   ]
  },
  {
   "cell_type": "code",
   "execution_count": 50,
   "metadata": {
    "collapsed": false
   },
   "outputs": [
    {
     "name": "stdout",
     "output_type": "stream",
     "text": [
      "(1035, 32)\n"
     ]
    }
   ],
   "source": [
    "# Normalize the validation data\n",
    "norm_validation_data = normalize_data(validation_data)\n",
    "    \n",
    "print(validation_data.shape)"
   ]
  },
  {
   "cell_type": "code",
   "execution_count": 51,
   "metadata": {
    "collapsed": false
   },
   "outputs": [
    {
     "name": "stdout",
     "output_type": "stream",
     "text": [
      "(4137, 32)\n"
     ]
    }
   ],
   "source": [
    "#Normalize the training_data\n",
    "norm_training_data = normalize_data(training_data)  \n",
    "print(training_data.shape)"
   ]
  },
  {
   "cell_type": "markdown",
   "metadata": {},
   "source": [
    "### Training on n examples"
   ]
  },
  {
   "cell_type": "code",
   "execution_count": 52,
   "metadata": {
    "collapsed": true
   },
   "outputs": [],
   "source": [
    "accuracy_score = []\n",
    "training_accuracy_score = []\n",
    "def training_classifier(n):\n",
    "    # Get n training data\n",
    "    training_data1 = norm_training_data[0:n]\n",
    "    training_labels1 = training_labels[0:n]\n",
    "    print(training_data1.shape)\n",
    "    print(training_labels1.shape)\n",
    "    # Build the SVC classifier\n",
    "    classifier1 = SVC(kernel='linear')\n",
    "    classifier1.fit(training_data1, training_labels1)\n",
    "    # Make prediction\n",
    "    score1 = classifier1.score(norm_validation_data, validation_labels)\n",
    "    score2 = classifier1.score(training_data1, training_labels1)\n",
    "    print(\"accuracy score\", score1)\n",
    "    accuracy_score.append(score1)\n",
    "    training_accuracy_score.append(score2)"
   ]
  },
  {
   "cell_type": "code",
   "execution_count": 53,
   "metadata": {
    "collapsed": false
   },
   "outputs": [
    {
     "name": "stdout",
     "output_type": "stream",
     "text": [
      "(100, 32)\n",
      "(100,)\n",
      "accuracy score 0.786473429952\n",
      "(200, 32)\n",
      "(200,)\n",
      "accuracy score 0.783574879227\n",
      "(500, 32)\n",
      "(500,)\n",
      "accuracy score 0.804830917874\n",
      "(1000, 32)\n",
      "(1000,)\n",
      "accuracy score 0.806763285024\n",
      "(2000, 32)\n",
      "(2000,)\n",
      "accuracy score 0.815458937198\n",
      "(4137, 32)\n",
      "(4137,)\n",
      "accuracy score 0.815458937198\n",
      "[0.78647342995169078, 0.78357487922705316, 0.80483091787439609, 0.80676328502415462, 0.81545893719806761, 0.81545893719806761]\n"
     ]
    }
   ],
   "source": [
    "training_size = [100, 200, 500, 1000, 2000, training_data.shape[0]]\n",
    "for n in training_size:\n",
    "    training_classifier(n)\n",
    "print(accuracy_score)"
   ]
  },
  {
   "cell_type": "markdown",
   "metadata": {},
   "source": [
    "## Plot the accuracy score "
   ]
  },
  {
   "cell_type": "code",
   "execution_count": 67,
   "metadata": {
    "collapsed": false
   },
   "outputs": [
    {
     "data": {
      "image/png": "[encoded data removed]",
      "text/plain": [
       "<matplotlib.figure.Figure at 0x10e4fc0b8>"
      ]
     },
     "metadata": {},
     "output_type": "display_data"
    }
   ],
   "source": [
    "plt.plot(training_size, accuracy_score, \"r--\", label = \"validation data set accuracy_score\")\n",
    "plt.plot(training_size, accuracy_score, \"ro\")\n",
    "plt.plot(training_size, training_accuracy_score, \"g--\", label = \"training data set accuracy_score\")\n",
    "plt.plot(training_size, training_accuracy_score, \"go\")\n",
    "plt.ylabel(\"accuracy_score\")\n",
    "plt.xlabel(\"number of training examples\")\n",
    "plt.legend(bbox_to_anchor=(1.05, 1), loc=2, borderaxespad=0.)\n",
    "plt.axis([0, 4500, 0.75, 0.83])\n",
    "plt.show()"
   ]
  },
  {
   "cell_type": "markdown",
   "metadata": {},
   "source": [
    "## K-Fold Cross-Validation"
   ]
  },
  {
   "cell_type": "code",
   "execution_count": 58,
   "metadata": {
    "collapsed": false
   },
   "outputs": [],
   "source": [
    "k = 5\n",
    "C_s = list(range(300, 100, -5)) + list(range(100, 10, -5)) + [math.pow(10, 1), math.pow(10, 0), math.pow(10, -1), math.pow(10, -2),\n",
    "      math.pow(10, -3), math.pow(10, -4), math.pow(10, -5),math.pow(10, -6), \n",
    "      math.pow(10, -7),math.pow(10, -8),math.pow(10, -10), math.pow(10, -20),\n",
    "      math.pow(10, -30)]\n",
    "svc = SVC(kernel='linear')"
   ]
  },
  {
   "cell_type": "code",
   "execution_count": 59,
   "metadata": {
    "collapsed": false
   },
   "outputs": [
    {
     "name": "stdout",
     "output_type": "stream",
     "text": [
      "[0.79598835205533058, 0.79598835205533058, 0.79623019002389162, 0.79623019002389162, 0.79623019002389162, 0.79623019002389162, 0.79671328181133139, 0.79623019002389162, 0.79671298973649007, 0.79695482770505122, 0.79647173591761145, 0.79695482770505122, 0.79647173591761145, 0.79647173591761145, 0.79671357388617259, 0.79671357388617259, 0.79671357388617259, 0.79719666567361214, 0.79647173591761156, 0.79598835205533081, 0.78946106350291201, 0.77084654971990019, 0.74377617720764766, 0.71090140137508839, 0.70510021087803543, 0.70510021087803543, 0.70510021087803543, 0.70510021087803543, 0.70510021087803543, 0.70510021087803543, 0.70510021087803543]\n"
     ]
    }
   ],
   "source": [
    "# Start the cross-validation\n",
    "accuracy_scores = list()\n",
    "for C in C_s:\n",
    "    svc.C = C\n",
    "    this_scores = cross_val_score(svc, norm_training_data, training_labels, cv = k, n_jobs=1)\n",
    "    accuracy_scores.append(np.mean(this_scores))\n",
    "print(accuracy_scores)"
   ]
  },
  {
   "cell_type": "code",
   "execution_count": 60,
   "metadata": {
    "collapsed": false
   },
   "outputs": [
    {
     "data": {
      "image/png": "[encoded data removed]",
      "text/plain": [
       "<matplotlib.figure.Figure at 0x113579d30>"
      ]
     },
     "metadata": {},
     "output_type": "display_data"
    }
   ],
   "source": [
    "plt.plot(C_s, accuracy_scores, \"r--\")\n",
    "plt.ylabel(\"accuracy_score\")\n",
    "plt.xlabel(\"C parameter\")\n",
    "#plt.axis([-0.1, 11, 0.65, 0.85])\n",
    "plt.show()"
   ]
  },
  {
   "cell_type": "markdown",
   "metadata": {},
   "source": [
    "## Kaggel Prediction"
   ]
  },
  {
   "cell_type": "code",
   "execution_count": 61,
   "metadata": {
    "collapsed": false
   },
   "outputs": [],
   "source": [
    "# Get the test data\n",
    "test_data = train_mat['test_data']\n",
    "test_data\n",
    "\n",
    "#Normalize the test data\n",
    "norm_test_data = normalize_data(test_data)\n",
    "\n",
    "# Choose the best C parameter\n",
    "best_c = C_s[accuracy_scores.index(max(accuracy_scores))]\n",
    "\n",
    "# Make predictions\n",
    "best_clf = SVC(C = best_c, kernel='linear')\n",
    "best_clf.fit(norm_training_data, training_labels)\n",
    "predictions = best_clf.predict(norm_test_data)"
   ]
  },
  {
   "cell_type": "code",
   "execution_count": 62,
   "metadata": {
    "collapsed": false
   },
   "outputs": [
    {
     "data": {
      "text/plain": [
       "array([1, 0, 0, ..., 1, 0, 0])"
      ]
     },
     "execution_count": 62,
     "metadata": {},
     "output_type": "execute_result"
    }
   ],
   "source": [
    "predictions"
   ]
  },
  {
   "cell_type": "markdown",
   "metadata": {},
   "source": [
    "Write the prediction to csv file"
   ]
  },
  {
   "cell_type": "code",
   "execution_count": 63,
   "metadata": {
    "collapsed": false
   },
   "outputs": [],
   "source": [
    "i = 0\n",
    "with open('norm_spam_submission.csv', 'w', newline='') as outfile:\n",
    "    writer = csv.writer(outfile)\n",
    "    writer.writerow(['Id'] + ['Category'])\n",
    "    for num in predictions:\n",
    "        writer.writerow([i] + [num])\n",
    "        i += 1"
   ]
  },
  {
   "cell_type": "code",
   "execution_count": 65,
   "metadata": {
    "collapsed": false
   },
   "outputs": [
    {
     "name": "stdout",
     "output_type": "stream",
     "text": [
      "15\n",
      "17\n"
     ]
    }
   ],
   "source": [
    "print(best_c)\n",
    "print(accuracy_scores.index(max(accuracy_scores)))"
   ]
  },
  {
   "cell_type": "code",
   "execution_count": null,
   "metadata": {
    "collapsed": true
   },
   "outputs": [],
   "source": []
  }
 ],
 "metadata": {
  "kernelspec": {
   "display_name": "Python 3",
   "language": "python",
   "name": "python3"
  },
  "language_info": {
   "codemirror_mode": {
    "name": "ipython",
    "version": 3
   },
   "file_extension": ".py",
   "mimetype": "text/x-python",
   "name": "python",
   "nbconvert_exporter": "python",
   "pygments_lexer": "ipython3",
   "version": "3.5.2"
  }
 },
 "nbformat": 4,
 "nbformat_minor": 2
}
