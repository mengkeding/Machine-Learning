{
 "cells": [
  {
   "cell_type": "markdown",
   "metadata": {},
   "source": [
    "# CIFAR-10 dataset classification"
   ]
  },
  {
   "cell_type": "code",
   "execution_count": 1,
   "metadata": {
    "collapsed": true
   },
   "outputs": [],
   "source": [
    "import scipy.io as sio\n",
    "import numpy as np\n",
    "import random\n",
    "import math\n",
    "from sklearn.svm import SVC\n",
    "import matplotlib.pyplot as plt"
   ]
  },
  {
   "cell_type": "markdown",
   "metadata": {},
   "source": [
    "## Data partitioning"
   ]
  },
  {
   "cell_type": "code",
   "execution_count": 2,
   "metadata": {
    "collapsed": false
   },
   "outputs": [
    {
     "name": "stdout",
     "output_type": "stream",
     "text": [
      "{'__globals__': [], 'trainX': array([[ 59,  43,  50, ...,  84,  72,   6],\n",
      "       [154, 126, 105, ..., 142, 144,   9],\n",
      "       [255, 253, 253, ...,  83,  84,   9],\n",
      "       ..., \n",
      "       [ 35,  40,  42, ...,  66,  50,   9],\n",
      "       [189, 186, 185, ..., 171, 171,   1],\n",
      "       [229, 236, 234, ..., 162, 161,   1]], dtype=int64), '__header__': b'MATLAB 5.0 MAT-file Platform: posix, Created on: Fri Jan 20 17:23:11 2017', '__version__': '1.0'}\n"
     ]
    }
   ],
   "source": [
    "# Read in the file\n",
    "train_mat = sio.loadmat(\"train.mat\")\n",
    "print(train_mat)"
   ]
  },
  {
   "cell_type": "code",
   "execution_count": 3,
   "metadata": {
    "collapsed": false
   },
   "outputs": [
    {
     "data": {
      "text/plain": [
       "dict_keys(['__globals__', 'trainX', '__header__', '__version__'])"
      ]
     },
     "execution_count": 3,
     "metadata": {},
     "output_type": "execute_result"
    }
   ],
   "source": [
    "# Understand the data content\n",
    "train_mat.keys()"
   ]
  },
  {
   "cell_type": "code",
   "execution_count": 4,
   "metadata": {
    "collapsed": false
   },
   "outputs": [
    {
     "data": {
      "text/plain": [
       "array([[ 59,  43,  50, ...,  84,  72,   6],\n",
       "       [154, 126, 105, ..., 142, 144,   9],\n",
       "       [255, 253, 253, ...,  83,  84,   9],\n",
       "       ..., \n",
       "       [ 35,  40,  42, ...,  66,  50,   9],\n",
       "       [189, 186, 185, ..., 171, 171,   1],\n",
       "       [229, 236, 234, ..., 162, 161,   1]], dtype=int64)"
      ]
     },
     "execution_count": 4,
     "metadata": {},
     "output_type": "execute_result"
    }
   ],
   "source": [
    "# Get the training data\n",
    "train_data = train_mat['trainX']\n",
    "train_data"
   ]
  },
  {
   "cell_type": "code",
   "execution_count": 5,
   "metadata": {
    "collapsed": false
   },
   "outputs": [
    {
     "data": {
      "text/plain": [
       "(50000, 3073)"
      ]
     },
     "execution_count": 5,
     "metadata": {},
     "output_type": "execute_result"
    }
   ],
   "source": [
    "# Check the amount of data in the training set\n",
    "train_data.shape"
   ]
  },
  {
   "cell_type": "code",
   "execution_count": 6,
   "metadata": {
    "collapsed": true
   },
   "outputs": [],
   "source": [
    "# Shuffle the data\n",
    "np.random.shuffle(train_data)"
   ]
  },
  {
   "cell_type": "code",
   "execution_count": 7,
   "metadata": {
    "collapsed": true
   },
   "outputs": [],
   "source": [
    "# Set aside 5000 training images as a validation set\n",
    "validation_index = np.array(random.sample(range(train_data.shape[0]), 5000))\n",
    "validation_set = train_data[validation_index]"
   ]
  },
  {
   "cell_type": "code",
   "execution_count": 8,
   "metadata": {
    "collapsed": false
   },
   "outputs": [
    {
     "data": {
      "text/plain": [
       "(5000, 3073)"
      ]
     },
     "execution_count": 8,
     "metadata": {},
     "output_type": "execute_result"
    }
   ],
   "source": [
    "# Verify the validation set size\n",
    "validation_set.shape"
   ]
  },
  {
   "cell_type": "code",
   "execution_count": 9,
   "metadata": {
    "collapsed": false
   },
   "outputs": [
    {
     "name": "stdout",
     "output_type": "stream",
     "text": [
      "(45000, 3073)\n"
     ]
    }
   ],
   "source": [
    "# Construct the training set\n",
    "training_data = np.delete(train_data, validation_index, 0)\n",
    "print(training_data.shape)\n",
    "\n",
    "# Separate the label and data\n",
    "training_labels = training_data[:, 3072]\n",
    "training_data = training_data[:, 0:3072]"
   ]
  },
  {
   "cell_type": "markdown",
   "metadata": {},
   "source": [
    "## SVM"
   ]
  },
  {
   "cell_type": "markdown",
   "metadata": {},
   "source": [
    "### Separate labels and data from validation_set"
   ]
  },
  {
   "cell_type": "code",
   "execution_count": 10,
   "metadata": {
    "collapsed": false
   },
   "outputs": [
    {
     "name": "stdout",
     "output_type": "stream",
     "text": [
      "(5000,)\n",
      "(5000, 3072)\n"
     ]
    }
   ],
   "source": [
    "validation_labels = validation_set[:, 3072]\n",
    "validation_data = validation_set[:, 0:3072]\n",
    "print(validation_labels.shape)\n",
    "print(validation_data.shape)"
   ]
  },
  {
   "cell_type": "markdown",
   "metadata": {},
   "source": [
    "### Training on n examples"
   ]
  },
  {
   "cell_type": "code",
   "execution_count": 15,
   "metadata": {
    "collapsed": false
   },
   "outputs": [],
   "source": [
    "accuracy_score = []\n",
    "training_accuracy_score = []\n",
    "def training_classifier(n, param = 1.0, l = accuracy_score, l2 = None):\n",
    "    # Get 100 training data\n",
    "    training_data1 = training_data[0:n]\n",
    "    training_labels1 = training_labels[0:n]\n",
    "    # Build the SVC classifier\n",
    "    classifier1 = SVC(C = param, kernel='linear')\n",
    "    classifier1.fit(training_data1, training_labels1)\n",
    "    # Make prediction\n",
    "    score1 = classifier1.score(validation_data, validation_labels)\n",
    "    l.append(score1)\n",
    "    if l2 != None:\n",
    "        score2 = classifier1.score(training_data, training_labels)\n",
    "        l2.append(score2)"
   ]
  },
  {
   "cell_type": "code",
   "execution_count": 16,
   "metadata": {
    "collapsed": false
   },
   "outputs": [
    {
     "name": "stdout",
     "output_type": "stream",
     "text": [
      "100\n",
      "200\n",
      "500\n",
      "1000\n",
      "2000\n",
      "5000\n",
      "[0.19120000000000001, 0.24299999999999999, 0.26900000000000002, 0.28799999999999998, 0.31219999999999998, 0.31859999999999999]\n"
     ]
    }
   ],
   "source": [
    "training_size = [100, 200, 500, 1000, 2000, 5000]\n",
    "for n in training_size:\n",
    "    print(n)\n",
    "    training_classifier(n, l = accuracy_score, l2 = training_accuracy_score)\n",
    "print(accuracy_score)\n"
   ]
  },
  {
   "cell_type": "code",
   "execution_count": 20,
   "metadata": {
    "collapsed": false
   },
   "outputs": [
    {
     "name": "stdout",
     "output_type": "stream",
     "text": [
      "[0.20453333333333334, 0.24982222222222222, 0.27866666666666667, 0.30717777777777777, 0.33008888888888888, 0.38511111111111113]\n"
     ]
    }
   ],
   "source": [
    "print(training_accuracy_score)"
   ]
  },
  {
   "cell_type": "markdown",
   "metadata": {},
   "source": [
    "## Plot the accuracy score "
   ]
  },
  {
   "cell_type": "code",
   "execution_count": 17,
   "metadata": {
    "collapsed": false
   },
   "outputs": [
    {
     "data": {
      "image/png": "[encoded data removed]",
      "text/plain": [
       "<matplotlib.figure.Figure at 0x1ec17db8160>"
      ]
     },
     "metadata": {},
     "output_type": "display_data"
    }
   ],
   "source": [
    "plt.plot(training_size, accuracy_score, \"ro\")\n",
    "plt.ylabel(\"validation data set accuracy_score\")\n",
    "plt.xlabel(\"number of training examples\")\n",
    "plt.axis([0, 6000, 0, 0.5])\n",
    "plt.show()"
   ]
  },
  {
   "cell_type": "code",
   "execution_count": 18,
   "metadata": {
    "collapsed": false
   },
   "outputs": [
    {
     "data": {
      "image/png": "[encoded data removed]",
      "text/plain": [
       "<matplotlib.figure.Figure at 0x1ecaa84a7b8>"
      ]
     },
     "metadata": {},
     "output_type": "display_data"
    }
   ],
   "source": [
    "plt.plot(training_size, training_accuracy_score, \"r--\")\n",
    "plt.plot(training_size, training_accuracy_score, \"ro\")\n",
    "plt.ylabel(\"training data set accuracy_score\")\n",
    "plt.xlabel(\"number of training examples\")\n",
    "plt.show()"
   ]
  },
  {
   "cell_type": "markdown",
   "metadata": {},
   "source": [
    "## Hyperparameter Tuning"
   ]
  },
  {
   "cell_type": "code",
   "execution_count": 21,
   "metadata": {
    "collapsed": true
   },
   "outputs": [],
   "source": [
    "max_accuracy_with_size = []\n",
    "# Guess C values\n",
    "Cs = list(range(100, 10, -5)) + [math.pow(10, 1), math.pow(10, 0), math.pow(10, -1), math.pow(10, -2),\n",
    "      math.pow(10, -3), math.pow(10, -4), math.pow(10, -5),math.pow(10, -6), \n",
    "      math.pow(10, -7),math.pow(10, -8),math.pow(10, -10), math.pow(10, -20),\n",
    "      math.pow(10, -30)]"
   ]
  },
  {
   "cell_type": "code",
   "execution_count": null,
   "metadata": {
    "collapsed": true
   },
   "outputs": [],
   "source": [
    "def tunner_with_size(n, score_list):\n",
    "    for c in Cs:\n",
    "        training_classifier(n, param = c, l = score_list)"
   ]
  },
  {
   "cell_type": "code",
   "execution_count": 22,
   "metadata": {
    "collapsed": false
   },
   "outputs": [
    {
     "name": "stdout",
     "output_type": "stream",
     "text": [
      "[0.19120000000000001, 0.19120000000000001, 0.19120000000000001, 0.19120000000000001, 0.19120000000000001, 0.19120000000000001, 0.19120000000000001, 0.19120000000000001, 0.19120000000000001, 0.19120000000000001, 0.19120000000000001, 0.19120000000000001, 0.19120000000000001, 0.19120000000000001, 0.19120000000000001, 0.19120000000000001, 0.19120000000000001, 0.19120000000000001, 0.19120000000000001, 0.19120000000000001, 0.19120000000000001, 0.19120000000000001, 0.19120000000000001, 0.19120000000000001, 0.19120000000000001, 0.18959999999999999, 0.20180000000000001, 0.096000000000000002, 0.096000000000000002, 0.096000000000000002, 0.096000000000000002]\n"
     ]
    }
   ],
   "source": [
    "accuracy_score100 = []\n",
    "# Start finding the best parameter with 100 training examples\n",
    "for c in Cs:\n",
    "    training_classifier(100, param = c, l = accuracy_score100)\n",
    "print(accuracy_score100)\n",
    "max_accuracy_with_size.append(max(accuracy_score100))"
   ]
  },
  {
   "cell_type": "code",
   "execution_count": 23,
   "metadata": {
    "collapsed": false
   },
   "outputs": [
    {
     "name": "stdout",
     "output_type": "stream",
     "text": [
      "[0.24299999999999999, 0.24299999999999999, 0.24299999999999999, 0.24299999999999999, 0.24299999999999999, 0.24299999999999999, 0.24299999999999999, 0.24299999999999999, 0.24299999999999999, 0.24299999999999999, 0.24299999999999999, 0.24299999999999999, 0.24299999999999999, 0.24299999999999999, 0.24299999999999999, 0.24299999999999999, 0.24299999999999999, 0.24299999999999999, 0.24299999999999999, 0.24299999999999999, 0.24299999999999999, 0.24299999999999999, 0.24299999999999999, 0.24299999999999999, 0.24299999999999999, 0.24279999999999999, 0.24779999999999999, 0.1706, 0.13159999999999999, 0.13159999999999999, 0.096199999999999994]\n"
     ]
    }
   ],
   "source": [
    "accuracy_score200 = []\n",
    "# Start finding the best parameter with 200 training examples\n",
    "for c in Cs:\n",
    "    training_classifier(200, c, l = accuracy_score200)\n",
    "print(accuracy_score200)\n",
    "max_accuracy_with_size.append(max(accuracy_score200))"
   ]
  },
  {
   "cell_type": "code",
   "execution_count": null,
   "metadata": {
    "collapsed": true
   },
   "outputs": [],
   "source": [
    "accuracy_score500 = []\n",
    "# Start finding the best parameter with 200 training examples\n",
    "for c in Cs:\n",
    "    training_classifier(500, c, l = accuracy_score500)\n",
    "print(accuracy_score500)\n",
    "max_accuracy_with_size.append(max(accuracy_score500))"
   ]
  },
  {
   "cell_type": "code",
   "execution_count": null,
   "metadata": {
    "collapsed": true
   },
   "outputs": [],
   "source": [
    "accuracy_score1000 = []\n",
    "# Start finding the best parameter with 200 training examples\n",
    "'''\n",
    "for c in Cs:\n",
    "    training_classifier(1000, c, l = accuracy_score1000)\n",
    "'''\n",
    "\n",
    "tunner_with_size(1000, accuracy_score1000)\n",
    "print(accuracy_score1000)\n",
    "max_accuracy_with_size.append(max(accuracy_score1000))"
   ]
  },
  {
   "cell_type": "code",
   "execution_count": null,
   "metadata": {
    "collapsed": true
   },
   "outputs": [],
   "source": [
    "accuracy_score2000 = []\n",
    "# Start finding the best parameter with 200 training examples\n",
    "for c in Cs:\n",
    "    training_classifier(2000, c, l = accuracy_score2000)\n",
    "print(accuracy_score2000)\n",
    "max_accuracy_with_size.append(max(accuracy_score2000))"
   ]
  },
  {
   "cell_type": "code",
   "execution_count": null,
   "metadata": {
    "collapsed": true
   },
   "outputs": [],
   "source": [
    "accuracy_score5000 = []\n",
    "# Start finding the best parameter with 200 training examples\n",
    "for c in Cs:\n",
    "    training_classifier(5000, c, l = accuracy_score5000)\n",
    "print(accuracy_score5000)\n",
    "max_accuracy_with_size.append(max(accuracy_score5000))"
   ]
  },
  {
   "cell_type": "markdown",
   "metadata": {},
   "source": [
    "## Kaggle Prediction"
   ]
  },
  {
   "cell_type": "code",
   "execution_count": null,
   "metadata": {
    "collapsed": true
   },
   "outputs": [],
   "source": [
    "best_accuracy_index = max_accuracy_with_size.index(max(max_accuracy_with_size))\n",
    "print(best_accuracy_index)\n",
    "best_c = Cs[7]\n",
    "best_c"
   ]
  },
  {
   "cell_type": "code",
   "execution_count": null,
   "metadata": {
    "collapsed": true
   },
   "outputs": [],
   "source": [
    "# Read in the test file\n",
    "test_mat = sio.loadmat(\"test.mat\")\n",
    "print(test_mat)\n",
    "print(test_mat.keys())"
   ]
  },
  {
   "cell_type": "code",
   "execution_count": null,
   "metadata": {
    "collapsed": true
   },
   "outputs": [],
   "source": [
    "# Make predictions\n",
    "best_clf = SVC(C = best_c, kernel='linear')\n",
    "\n",
    "\n",
    "test_data = test_mat['testX']\n",
    "\n",
    "# Normalize the data\n",
    "#test_data = normalize_data(test_data)\n",
    "\n",
    "best_clf.fit(training_data, training_labels)\n",
    "predictions = best_clf.predict(test_data)"
   ]
  },
  {
   "cell_type": "code",
   "execution_count": null,
   "metadata": {
    "collapsed": true
   },
   "outputs": [],
   "source": [
    "i = 0\n",
    "with open('cifar_submission.csv', 'w', newline='') as outfile:\n",
    "    writer = csv.writer(outfile)\n",
    "    writer.writerow(['Id'] + ['Category'])\n",
    "    for num in predictions:\n",
    "        writer.writerow([i] + [num])\n",
    "        i += 1"
   ]
  }
 ],
 "metadata": {
  "kernelspec": {
   "display_name": "Python 3",
   "language": "python",
   "name": "python3"
  },
  "language_info": {
   "codemirror_mode": {
    "name": "ipython",
    "version": 3
   },
   "file_extension": ".py",
   "mimetype": "text/x-python",
   "name": "python",
   "nbconvert_exporter": "python",
   "pygments_lexer": "ipython3",
   "version": "3.5.2"
  }
 },
 "nbformat": 4,
 "nbformat_minor": 2
}
