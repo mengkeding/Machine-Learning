{
 "cells": [
  {
   "cell_type": "markdown",
   "metadata": {},
   "source": [
    "# CIFAR-10 dataset classification"
   ]
  },
  {
   "cell_type": "code",
   "execution_count": 1,
   "metadata": {
    "collapsed": true
   },
   "outputs": [],
   "source": [
    "import scipy.io as sio\n",
    "import numpy as np\n",
    "import random\n",
    "import math\n",
    "from sklearn.svm import SVC\n",
    "import matplotlib.pyplot as plt"
   ]
  },
  {
   "cell_type": "markdown",
   "metadata": {},
   "source": [
    "## Data partitioning"
   ]
  },
  {
   "cell_type": "code",
   "execution_count": 2,
   "metadata": {
    "collapsed": false
   },
   "outputs": [
    {
     "name": "stdout",
     "output_type": "stream",
     "text": [
      "{'__header__': b'MATLAB 5.0 MAT-file Platform: posix, Created on: Fri Jan 20 17:23:11 2017', '__version__': '1.0', 'trainX': array([[ 59,  43,  50, ...,  84,  72,   6],\n",
      "       [154, 126, 105, ..., 142, 144,   9],\n",
      "       [255, 253, 253, ...,  83,  84,   9],\n",
      "       ..., \n",
      "       [ 35,  40,  42, ...,  66,  50,   9],\n",
      "       [189, 186, 185, ..., 171, 171,   1],\n",
      "       [229, 236, 234, ..., 162, 161,   1]], dtype=int64), '__globals__': []}\n"
     ]
    }
   ],
   "source": [
    "# Read in the file\n",
    "train_mat = sio.loadmat(\"train.mat\")\n",
    "print(train_mat)"
   ]
  },
  {
   "cell_type": "code",
   "execution_count": 3,
   "metadata": {
    "collapsed": false
   },
   "outputs": [
    {
     "data": {
      "text/plain": [
       "dict_keys(['__header__', '__version__', 'trainX', '__globals__'])"
      ]
     },
     "execution_count": 3,
     "metadata": {},
     "output_type": "execute_result"
    }
   ],
   "source": [
    "# Understand the data content\n",
    "train_mat.keys()"
   ]
  },
  {
   "cell_type": "code",
   "execution_count": 4,
   "metadata": {
    "collapsed": false
   },
   "outputs": [
    {
     "data": {
      "text/plain": [
       "array([[ 59,  43,  50, ...,  84,  72,   6],\n",
       "       [154, 126, 105, ..., 142, 144,   9],\n",
       "       [255, 253, 253, ...,  83,  84,   9],\n",
       "       ..., \n",
       "       [ 35,  40,  42, ...,  66,  50,   9],\n",
       "       [189, 186, 185, ..., 171, 171,   1],\n",
       "       [229, 236, 234, ..., 162, 161,   1]], dtype=int64)"
      ]
     },
     "execution_count": 4,
     "metadata": {},
     "output_type": "execute_result"
    }
   ],
   "source": [
    "# Get the training data\n",
    "train_data = train_mat['trainX']\n",
    "train_data"
   ]
  },
  {
   "cell_type": "code",
   "execution_count": 5,
   "metadata": {
    "collapsed": false
   },
   "outputs": [
    {
     "data": {
      "text/plain": [
       "(50000, 3073)"
      ]
     },
     "execution_count": 5,
     "metadata": {},
     "output_type": "execute_result"
    }
   ],
   "source": [
    "# Check the amount of data in the training set\n",
    "train_data.shape"
   ]
  },
  {
   "cell_type": "code",
   "execution_count": 6,
   "metadata": {
    "collapsed": true
   },
   "outputs": [],
   "source": [
    "# Set aside 5000 training images as a validation set\n",
    "validation_index = np.array(random.sample(range(train_data.shape[0]), 5000))\n",
    "validation_set = train_data[validation_index]"
   ]
  },
  {
   "cell_type": "code",
   "execution_count": 7,
   "metadata": {
    "collapsed": false
   },
   "outputs": [
    {
     "data": {
      "text/plain": [
       "(5000, 3073)"
      ]
     },
     "execution_count": 7,
     "metadata": {},
     "output_type": "execute_result"
    }
   ],
   "source": [
    "# Verify the validation set size\n",
    "validation_set.shape"
   ]
  },
  {
   "cell_type": "code",
   "execution_count": 8,
   "metadata": {
    "collapsed": false
   },
   "outputs": [
    {
     "name": "stdout",
     "output_type": "stream",
     "text": [
      "(45000, 3073)\n"
     ]
    }
   ],
   "source": [
    "# Construct the training set\n",
    "training_data = np.delete(train_data, validation_index, 0)\n",
    "print(training_data.shape)"
   ]
  },
  {
   "cell_type": "markdown",
   "metadata": {},
   "source": [
    "## SVM"
   ]
  },
  {
   "cell_type": "markdown",
   "metadata": {},
   "source": [
    "### Separate labels and data from validation_set"
   ]
  },
  {
   "cell_type": "code",
   "execution_count": 9,
   "metadata": {
    "collapsed": false
   },
   "outputs": [
    {
     "name": "stdout",
     "output_type": "stream",
     "text": [
      "(5000,)\n",
      "(5000, 3072)\n"
     ]
    }
   ],
   "source": [
    "validation_labels = validation_set[:, 3072]\n",
    "validation_data = validation_set[:, 0:3072]\n",
    "print(validation_labels.shape)\n",
    "print(validation_data.shape)"
   ]
  },
  {
   "cell_type": "markdown",
   "metadata": {},
   "source": [
    "### Training on n examples"
   ]
  },
  {
   "cell_type": "code",
   "execution_count": 10,
   "metadata": {
    "collapsed": false
   },
   "outputs": [],
   "source": [
    "accuracy_score = []\n",
    "def training_classifier(n, param = 1.0, l = accuracy_score):\n",
    "    # Get 100 training data\n",
    "    training_data1 = training_data[0:n, 0:3072]\n",
    "    training_labels1 = training_data[0:n, 3072]\n",
    "    print(training_data1.shape)\n",
    "    print(training_labels1.shape)\n",
    "    # Build the SVC classifier\n",
    "    classifier1 = SVC(C = param, kernel='linear')\n",
    "    classifier1.fit(training_data1, training_labels1)\n",
    "    # Make prediction\n",
    "    score1 = classifier1.score(validation_data, validation_labels)\n",
    "    print(\"accuracy score\", score1)\n",
    "    l.append(score1)"
   ]
  },
  {
   "cell_type": "code",
   "execution_count": 11,
   "metadata": {
    "collapsed": false
   },
   "outputs": [
    {
     "name": "stdout",
     "output_type": "stream",
     "text": [
      "(100, 3072)\n",
      "(100,)\n",
      "accuracy score 0.2042\n",
      "(200, 3072)\n",
      "(200,)\n",
      "accuracy score 0.2544\n",
      "(500, 3072)\n",
      "(500,)\n",
      "accuracy score 0.2916\n",
      "(1000, 3072)\n",
      "(1000,)\n",
      "accuracy score 0.3018\n",
      "(2000, 3072)\n",
      "(2000,)\n",
      "accuracy score 0.2976\n",
      "(5000, 3072)\n",
      "(5000,)\n",
      "accuracy score 0.2938\n",
      "[0.20419999999999999, 0.25440000000000002, 0.29160000000000003, 0.30180000000000001, 0.29759999999999998, 0.29380000000000001]\n"
     ]
    }
   ],
   "source": [
    "training_size = [100, 200, 500, 1000, 2000, 5000]\n",
    "for n in training_size:\n",
    "    training_classifier(n, l = accuracy_score)\n",
    "print(accuracy_score)"
   ]
  },
  {
   "cell_type": "markdown",
   "metadata": {},
   "source": [
    "## Plot the accuracy score "
   ]
  },
  {
   "cell_type": "code",
   "execution_count": 15,
   "metadata": {
    "collapsed": false
   },
   "outputs": [
    {
     "data": {
      "image/png": "[encoded data removed]",
      "text/plain": [
       "<matplotlib.figure.Figure at 0x2b45ffee278>"
      ]
     },
     "metadata": {},
     "output_type": "display_data"
    }
   ],
   "source": [
    "plt.plot(training_size, accuracy_score, \"ro\")\n",
    "plt.ylabel(\"accura0cy_score\")\n",
    "plt.xlabel(\"number of training examples\")\n",
    "plt.axis([0, 6000, 0, 0.5])\n",
    "plt.show()"
   ]
  },
  {
   "cell_type": "code",
   "execution_count": null,
   "metadata": {
    "collapsed": true
   },
   "outputs": [],
   "source": []
  }
 ],
 "metadata": {
  "kernelspec": {
   "display_name": "Python 3",
   "language": "python",
   "name": "python3"
  },
  "language_info": {
   "codemirror_mode": {
    "name": "ipython",
    "version": 3
   },
   "file_extension": ".py",
   "mimetype": "text/x-python",
   "name": "python",
   "nbconvert_exporter": "python",
   "pygments_lexer": "ipython3",
   "version": "3.5.2"
  }
 },
 "nbformat": 4,
 "nbformat_minor": 2
}
