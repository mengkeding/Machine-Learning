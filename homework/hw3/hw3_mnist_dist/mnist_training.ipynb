{
 "cells": [
  {
   "cell_type": "markdown",
   "metadata": {},
   "source": [
    "# MNIST dataset classification"
   ]
  },
  {
   "cell_type": "code",
   "execution_count": 2,
   "metadata": {
    "collapsed": true
   },
   "outputs": [],
   "source": [
    "import scipy.io as sio\n",
    "import numpy as np\n",
    "import random\n",
    "import matplotlib.pyplot as plt\n",
    "from sklearn.preprocessing import normalize\n",
    "import math\n",
    "import csv\n",
    "from pylab import pcolor, show, colorbar, xticks, yticks"
   ]
  },
  {
   "cell_type": "markdown",
   "metadata": {},
   "source": [
    "## Data partitioning"
   ]
  },
  {
   "cell_type": "code",
   "execution_count": 3,
   "metadata": {
    "collapsed": false
   },
   "outputs": [
    {
     "name": "stdout",
     "output_type": "stream",
     "text": [
      "{'__version__': '1.0', 'trainX': array([[0, 0, 0, ..., 0, 0, 5],\n",
      "       [0, 0, 0, ..., 0, 0, 0],\n",
      "       [0, 0, 0, ..., 0, 0, 4],\n",
      "       ..., \n",
      "       [0, 0, 0, ..., 0, 0, 5],\n",
      "       [0, 0, 0, ..., 0, 0, 6],\n",
      "       [0, 0, 0, ..., 0, 0, 8]]), '__header__': b'MATLAB 5.0 MAT-file Platform: posix, Created on: Fri Jan 20 17:22:08 2017', '__globals__': []}\n"
     ]
    }
   ],
   "source": [
    "# Read in the file\n",
    "train_mat = sio.loadmat(\"train.mat\")\n",
    "print(train_mat)"
   ]
  },
  {
   "cell_type": "code",
   "execution_count": 4,
   "metadata": {
    "collapsed": false
   },
   "outputs": [
    {
     "data": {
      "text/plain": [
       "dict_keys(['__version__', 'trainX', '__header__', '__globals__'])"
      ]
     },
     "execution_count": 4,
     "metadata": {},
     "output_type": "execute_result"
    }
   ],
   "source": [
    "# Understand the data content\n",
    "train_mat.keys()"
   ]
  },
  {
   "cell_type": "code",
   "execution_count": 5,
   "metadata": {
    "collapsed": false
   },
   "outputs": [
    {
     "data": {
      "text/plain": [
       "array([[0, 0, 0, ..., 0, 0, 5],\n",
       "       [0, 0, 0, ..., 0, 0, 0],\n",
       "       [0, 0, 0, ..., 0, 0, 4],\n",
       "       ..., \n",
       "       [0, 0, 0, ..., 0, 0, 5],\n",
       "       [0, 0, 0, ..., 0, 0, 6],\n",
       "       [0, 0, 0, ..., 0, 0, 8]])"
      ]
     },
     "execution_count": 5,
     "metadata": {},
     "output_type": "execute_result"
    }
   ],
   "source": [
    "# Get the training data\n",
    "data_set = train_mat['trainX']\n",
    "data_set"
   ]
  },
  {
   "cell_type": "code",
   "execution_count": 6,
   "metadata": {
    "collapsed": false
   },
   "outputs": [
    {
     "data": {
      "text/plain": [
       "(60000, 785)"
      ]
     },
     "execution_count": 6,
     "metadata": {},
     "output_type": "execute_result"
    }
   ],
   "source": [
    "# Check the amount of data in the training set\n",
    "data_set.shape"
   ]
  },
  {
   "cell_type": "code",
   "execution_count": 7,
   "metadata": {
    "collapsed": true
   },
   "outputs": [],
   "source": [
    "# Shuffle the whole provided data set\n",
    "np.random.shuffle(data_set)"
   ]
  },
  {
   "cell_type": "code",
   "execution_count": 8,
   "metadata": {
    "collapsed": false
   },
   "outputs": [],
   "source": [
    "# Set aside 10000 training images as a validation set\n",
    "validation_index = np.array(random.sample(range(data_set.shape[0]), 10000))\n",
    "validation_set = data_set[validation_index]"
   ]
  },
  {
   "cell_type": "code",
   "execution_count": 9,
   "metadata": {
    "collapsed": false
   },
   "outputs": [
    {
     "data": {
      "text/plain": [
       "(10000, 785)"
      ]
     },
     "execution_count": 9,
     "metadata": {},
     "output_type": "execute_result"
    }
   ],
   "source": [
    "# Verify the validation set size\n",
    "validation_set.shape"
   ]
  },
  {
   "cell_type": "code",
   "execution_count": 10,
   "metadata": {
    "collapsed": false
   },
   "outputs": [
    {
     "name": "stdout",
     "output_type": "stream",
     "text": [
      "(50000, 785)\n"
     ]
    }
   ],
   "source": [
    "# Construct the training set\n",
    "training_set = np.delete(data_set, validation_index, 0)\n",
    "print(training_set.shape)"
   ]
  },
  {
   "cell_type": "code",
   "execution_count": 11,
   "metadata": {
    "collapsed": true
   },
   "outputs": [],
   "source": [
    "# Normalize the given data\n",
    "def normalize_data(data):\n",
    "    normalized_data = data/np.linalg.norm(data).reshape((-1, 1))\n",
    "    return normalized_data"
   ]
  },
  {
   "cell_type": "markdown",
   "metadata": {},
   "source": [
    "Separate labels and data"
   ]
  },
  {
   "cell_type": "code",
   "execution_count": 13,
   "metadata": {
    "collapsed": false
   },
   "outputs": [
    {
     "name": "stdout",
     "output_type": "stream",
     "text": [
      "(50000, 785)\n",
      "(10000,)\n",
      "(10000, 784)\n"
     ]
    }
   ],
   "source": [
    "# Construct the training set\n",
    "training_set = np.delete(data_set, validation_index, 0)\n",
    "print(training_set.shape)\n",
    "\n",
    "# Separate the label and data\n",
    "training_labels = training_set[:, 784]\n",
    "training_data = training_set[:, 0:784]\n",
    "validation_labels = validation_set[:, 784]\n",
    "validation_data = validation_set[:, 0:784]\n",
    "print(validation_labels.shape)\n",
    "print(validation_data.shape)"
   ]
  },
  {
   "cell_type": "code",
   "execution_count": 14,
   "metadata": {
    "collapsed": true
   },
   "outputs": [],
   "source": [
    "# Normalize the data\n",
    "norm_validation_data = normalize_data(validation_data)\n",
    "\n",
    "\n",
    "norm_training_data = normalize_data(training_data)"
   ]
  },
  {
   "cell_type": "markdown",
   "metadata": {},
   "source": [
    "## (a) Gaussian Distribution Fitting"
   ]
  },
  {
   "cell_type": "markdown",
   "metadata": {},
   "source": [
    "Maximum likelihood estimation: \n",
    "\n",
    "mean: $\\hat{\\mu}_c = \\frac{1}{n_c} \\sum_{i=1}^n x_i$, covatiance: $\\hat{\\Sigma}_c = \\frac{1}{n_c}\\sum_{i=1}^n(X_i-\\mu_c)(X_i-\\mu_c)^T$"
   ]
  },
  {
   "cell_type": "code",
   "execution_count": 15,
   "metadata": {
    "collapsed": false
   },
   "outputs": [],
   "source": [
    "# Compute the mean\n",
    "classes = 10\n",
    "means = [np.mean(norm_training_data[training_labels == c], axis=0) for c in range(classes)]"
   ]
  },
  {
   "cell_type": "code",
   "execution_count": 16,
   "metadata": {
    "collapsed": false
   },
   "outputs": [],
   "source": [
    "# Compute the covariance matrix\n",
    "covariance = [np.cov(norm_training_data[training_labels == c].T) for c in range(classes)]"
   ]
  },
  {
   "cell_type": "markdown",
   "metadata": {},
   "source": [
    "## (b) Covariance Matrix Plotting"
   ]
  },
  {
   "cell_type": "code",
   "execution_count": 17,
   "metadata": {
    "collapsed": false
   },
   "outputs": [
    {
     "data": {
      "image/png": "[encoded data removed]",
      "text/plain": [
       "<matplotlib.figure.Figure at 0x10cf7e208>"
      ]
     },
     "metadata": {},
     "output_type": "display_data"
    }
   ],
   "source": [
    "cov_to_plot = 3\n",
    "plt.matshow(covariance[cov_to_plot], interpolation=\"nearest\", cmap=plt.cm.OrRd)\n",
    "plt.title(\"Covariance matrix of {}\".format(cov_to_plot))\n",
    "plt.colorbar()\n",
    "plt.show()"
   ]
  },
  {
   "cell_type": "markdown",
   "metadata": {},
   "source": [
    "The values in the diagonoal are greater. The correlation become weaker in general as the feature gets further away from each other. And the features in the two ends have almost no correlations with any others."
   ]
  },
  {
   "cell_type": "markdown",
   "metadata": {},
   "source": [
    "## (c) Classification"
   ]
  },
  {
   "cell_type": "code",
   "execution_count": 21,
   "metadata": {
    "collapsed": false
   },
   "outputs": [],
   "source": [
    "def cross_validation(training_data, training_labels, DA_fn, k_fold, constant):\n",
    "    \"\"\"\n",
    "    Do the k-fold cross_validation with given discriminate analysis function\n",
    "    and the constant that modify the covariance matrix\n",
    "    It returns the average validation accuracy with the given constant\n",
    "    \"\"\"\n",
    "    # Partition the data and labels into k-fold\n",
    "    data_set = np.array(np.split(training_data, k_fold))\n",
    "    labels_set = np.array(np.split(training_labels, k_fold))\n",
    "    total_accuracy = []\n",
    "    \n",
    "    for k in range(k_fold):\n",
    "        train_data = np.delete(data_set, k, 0)\n",
    "        train_labels = np.delete(labels_set, k, 0)\n",
    "        validation_data = data_set[k]\n",
    "        validation_labels = labels_set[k]\n",
    "        validation_prediction = DA_fn(train_data, train_labels, validation_data, constant)\n",
    "        total_accuracy.append(np.sum(validation_prediction == validation_labels)/float(len(validation_labels)))\n",
    "    accuracy = sum(total_accuracy)/len(total_accuracy)\n",
    "    return accuracy"
   ]
  },
  {
   "cell_type": "markdown",
   "metadata": {},
   "source": [
    "### (i) LDA"
   ]
  },
  {
   "cell_type": "code",
   "execution_count": 18,
   "metadata": {
    "collapsed": true
   },
   "outputs": [],
   "source": [
    "feature_size = 784\n",
    "avg_cov = np.mean(covariance, axis=0) # the average covariance matrix of the 10 classes, avg_cov.shape = (784, 784)"
   ]
  },
  {
   "cell_type": "code",
   "execution_count": 19,
   "metadata": {
    "collapsed": false
   },
   "outputs": [
    {
     "name": "stdout",
     "output_type": "stream",
     "text": [
      "Prior of  0  is  0.09876\n",
      "Prior of  1  is  0.11308\n",
      "Prior of  2  is  0.09942\n",
      "Prior of  3  is  0.10074\n",
      "Prior of  4  is  0.0976\n",
      "Prior of  5  is  0.09038\n",
      "Prior of  6  is  0.09912\n",
      "Prior of  7  is  0.1046\n",
      "Prior of  8  is  0.09716\n",
      "Prior of  9  is  0.09914\n"
     ]
    }
   ],
   "source": [
    "# Calculate the prior probability\n",
    "sample_size = float(training_labels.shape[0])\n",
    "prior_prob = [np.sum(training_labels == c)/sample_size for c in range(classes)]\n",
    "for i, p in enumerate(prior_prob):\n",
    "    print(\"Prior of \", i, \" is \", p)"
   ]
  },
  {
   "cell_type": "markdown",
   "metadata": {},
   "source": [
    "Choose a label C that maximizes the linear discriminant function: $\\mu_c^T\\Sigma^{-1}x - \\frac{1}{2}\\mu_c^T\\Sigma^{-1}\\mu_c+ln(\\pi_c)$\n"
   ]
  },
  {
   "cell_type": "code",
   "execution_count": 20,
   "metadata": {
    "collapsed": true
   },
   "outputs": [],
   "source": [
    "def LDA(training_data, training_labels, prediction_data, constant):\n",
    "    # Compute the mean\n",
    "    classes = 10\n",
    "    means = [np.mean(training_data[training_labels == c], axis=0) for c in range(classes)]\n",
    "    # Compute the covariance matrix\n",
    "    covariance = [np.cov(training_data[training_labels == c].T) for c in range(classes)]\n",
    "    avg_cov = np.mean(covariance, axis=0) + np.eye(feature_size) * constant# the average covariance matrix of the 10 classes\n",
    "    avg_cov_inv = np.linalg.inv(avg_cov) \n",
    "    \n",
    "    # use the linear discriminant function to make prediction\n",
    "    predictions = [means[c].dot(avg_cov_inv).dot(prediction_data.T) - \\\n",
    "                   0.5 * means[c].T.dot(avg_cov_inv).dot(means[c]) + \\\n",
    "                   np.log(prior_prob[c]) for c in range(classes)]\n",
    "    max_prediction = np.argmax(predictions, axis=0)\n",
    "    return max_prediction"
   ]
  },
  {
   "cell_type": "code",
   "execution_count": 31,
   "metadata": {
    "collapsed": true
   },
   "outputs": [],
   "source": [
    "def find_best_const(training_data, training_labels, DA_fn, k_fold, constant_list):\n",
    "    \"\"\"\n",
    "    Find the best constant that results in a greater accuracy in the constant list\n",
    "    \"\"\"\n",
    "    max_accuracy = 0\n",
    "    best_const = 0\n",
    "    \n",
    "    for const in constant_list:\n",
    "        print(\"Testing const\", const)\n",
    "        current_accuracy = cross_validation(training_data, training_labels, DA_fn, k_fold, const)\n",
    "        if current_accuracy > max_accuracy:\n",
    "            max_accuracy = current_accuracy\n",
    "            best_const = const\n",
    "    return best_const"
   ]
  },
  {
   "cell_type": "code",
   "execution_count": 23,
   "metadata": {
    "collapsed": false
   },
   "outputs": [
    {
     "name": "stdout",
     "output_type": "stream",
     "text": [
      "Best constant is 1e-08\n"
     ]
    }
   ],
   "source": [
    "constant_list = np.array([10**i for i in range(-10, -2)])\n",
    "k_fold = 5\n",
    "LDA_best_const = find_best_const(norm_training_data, training_labels, LDA, k_fold, constant_list)\n",
    "print(\"Best constant is\", LDA_best_const)"
   ]
  },
  {
   "cell_type": "code",
   "execution_count": 24,
   "metadata": {
    "collapsed": false
   },
   "outputs": [],
   "source": [
    "# Tunning the hyperparameter with different training size\n",
    "training_sizes = [100, 200, 500, 1000, 2000, 5000, 10000, 30000, 50000]\n",
    "LDA_validation_error = []\n",
    "for size in training_sizes:\n",
    "    LDA_validation_prediction = LDA(norm_training_data[:size], training_labels[:size],\\\n",
    "                                    norm_validation_data, LDA_best_const)\n",
    "    error_rate = np.sum(LDA_validation_prediction != validation_labels)/float(len(validation_labels))\n",
    "    LDA_validation_error.append(error_rate)"
   ]
  },
  {
   "cell_type": "code",
   "execution_count": 25,
   "metadata": {
    "collapsed": false
   },
   "outputs": [
    {
     "data": {
      "text/plain": [
       "[0.3246,\n",
       " 0.24179999999999999,\n",
       " 0.18410000000000001,\n",
       " 0.15390000000000001,\n",
       " 0.14149999999999999,\n",
       " 0.13880000000000001,\n",
       " 0.13819999999999999,\n",
       " 0.13639999999999999,\n",
       " 0.13769999999999999]"
      ]
     },
     "execution_count": 25,
     "metadata": {},
     "output_type": "execute_result"
    }
   ],
   "source": [
    "LDA_validation_error"
   ]
  },
  {
   "cell_type": "markdown",
   "metadata": {},
   "source": [
    "Plot the validation error"
   ]
  },
  {
   "cell_type": "code",
   "execution_count": 26,
   "metadata": {
    "collapsed": false
   },
   "outputs": [
    {
     "data": {
      "image/png": "[encoded data removed]",
      "text/plain": [
       "<matplotlib.figure.Figure at 0x10d0ebba8>"
      ]
     },
     "metadata": {},
     "output_type": "display_data"
    }
   ],
   "source": [
    "plt.title(\"LDA error rate with different sample size\")\n",
    "plt.xlabel(\"training size\")\n",
    "plt.ylabel(\"error rate\")\n",
    "plt.plot(training_sizes, LDA_validation_error)\n",
    "plt.show()"
   ]
  },
  {
   "cell_type": "markdown",
   "metadata": {},
   "source": [
    "### (ii) QDA"
   ]
  },
  {
   "cell_type": "markdown",
   "metadata": {},
   "source": [
    "Choose a class C that maximizes $P(X=x|Y=c)\\pi_c$ is equivalent to maximizing the quadratic discriminant function: $Q_c = -\\frac{1}{2}(x-\\mu_c)^T\\Sigma_c^{-1}(x-\\mu_c)-\\frac{1}{2}ln|\\Sigma_c|+ln(\\pi_c)$"
   ]
  },
  {
   "cell_type": "code",
   "execution_count": 29,
   "metadata": {
    "collapsed": true
   },
   "outputs": [],
   "source": [
    "def QDA(training_data, training_labels, prediction_data, constant):\n",
    "    # Compute the mean\n",
    "    classes = 10\n",
    "    expand_size = len(prediction_data)\n",
    "    means = [np.mean(training_data[training_labels == c], axis=0) for c in range(classes)]\n",
    "    # Transform the means into a list of matrix that with each row is a replica of mean\n",
    "    means_transformed = [np.tile(mean.reshape(784, 1), expand_size).T \\\n",
    "                                  for mean in means]\n",
    "    # Compute the covariance matrix\n",
    "    covariances = [np.cov(training_data[training_labels == c].T) + np.eye(feature_size) * constant\\\n",
    "                   for c in range(classes)]\n",
    "    cov_invs = [np.linalg.inv(cov) for cov in covariances]\n",
    "    \n",
    "    # use the linear discriminant function to make prediction\n",
    "    predictions = [-0.5 * (prediction_data - means_transformed[c]).dot(cov_invs[c])\\\n",
    "                   .dot((prediction_data - means_transformed[c]).T).diagonal() - \\\n",
    "                   0.5 * np.tile(np.log(np.linalg.norm(cov_invs[c])), expand_size) + \\\n",
    "                   np.tile(np.log(prior_prob[c]), expand_size) for c in range(classes)]\n",
    "    max_prediction = np.argmax(predictions, axis=0)\n",
    "    return max_prediction"
   ]
  },
  {
   "cell_type": "code",
   "execution_count": 32,
   "metadata": {
    "collapsed": false
   },
   "outputs": [
    {
     "name": "stdout",
     "output_type": "stream",
     "text": [
      "Testing const 1e-10\n",
      "Testing const 1e-09\n",
      "Testing const 1e-08\n",
      "Testing const 1e-07\n",
      "Testing const 1e-06\n",
      "Testing const 1e-05\n",
      "Testing const 0.0001\n",
      "Testing const 0.001\n",
      "Testing const 0.01\n",
      "Testing const 0.1\n",
      "Best constant is 1e-07\n"
     ]
    }
   ],
   "source": [
    "constant_list = [10**i for i in range(-10, 0)]\n",
    "QDA_best_const = find_best_const(norm_training_data, training_labels, QDA, k_fold, constant_list)\n",
    "print(\"Best constant is\", QDA_best_const) #1e-07"
   ]
  },
  {
   "cell_type": "code",
   "execution_count": 33,
   "metadata": {
    "collapsed": false
   },
   "outputs": [
    {
     "name": "stdout",
     "output_type": "stream",
     "text": [
      "100\n",
      "200\n",
      "500\n",
      "1000\n",
      "2000\n",
      "5000\n",
      "10000\n",
      "30000\n",
      "50000\n"
     ]
    }
   ],
   "source": [
    "QDA_validation_error = []\n",
    "for size in training_sizes:\n",
    "    print(size)\n",
    "    QDA_validation_prediction = QDA(norm_training_data[:size], training_labels[:size],\\\n",
    "                                    norm_validation_data, QDA_best_const)\n",
    "    error_rate = np.sum(QDA_validation_prediction != validation_labels)/float(len(validation_labels))\n",
    "    QDA_validation_error.append(error_rate)"
   ]
  },
  {
   "cell_type": "code",
   "execution_count": 34,
   "metadata": {
    "collapsed": false
   },
   "outputs": [
    {
     "data": {
      "text/plain": [
       "[0.34460000000000002,\n",
       " 0.23599999999999999,\n",
       " 0.1019,\n",
       " 0.067000000000000004,\n",
       " 0.0562,\n",
       " 0.051499999999999997,\n",
       " 0.049099999999999998,\n",
       " 0.049099999999999998,\n",
       " 0.048899999999999999]"
      ]
     },
     "execution_count": 34,
     "metadata": {},
     "output_type": "execute_result"
    }
   ],
   "source": [
    "QDA_validation_error"
   ]
  },
  {
   "cell_type": "markdown",
   "metadata": {},
   "source": [
    "Plot the validation error"
   ]
  },
  {
   "cell_type": "code",
   "execution_count": 35,
   "metadata": {
    "collapsed": false
   },
   "outputs": [
    {
     "data": {
      "image/png": "[encoded data removed]",
      "text/plain": [
       "<matplotlib.figure.Figure at 0x104358320>"
      ]
     },
     "metadata": {},
     "output_type": "display_data"
    }
   ],
   "source": [
    "plt.title(\"QDA error rate with different sample size\")\n",
    "plt.xlabel(\"training size\")\n",
    "plt.ylabel(\"error rate\")\n",
    "plt.plot(training_sizes, QDA_validation_error)\n",
    "plt.show()"
   ]
  },
  {
   "cell_type": "markdown",
   "metadata": {},
   "source": [
    "## Kaggle Prediction"
   ]
  },
  {
   "cell_type": "code",
   "execution_count": 36,
   "metadata": {
    "collapsed": false
   },
   "outputs": [
    {
     "name": "stdout",
     "output_type": "stream",
     "text": [
      "{'__version__': '1.0', 'testX': array([[0, 0, 0, ..., 0, 0, 0],\n",
      "       [0, 0, 0, ..., 0, 0, 0],\n",
      "       [0, 0, 0, ..., 0, 0, 0],\n",
      "       ..., \n",
      "       [0, 0, 0, ..., 0, 0, 0],\n",
      "       [0, 0, 0, ..., 0, 0, 0],\n",
      "       [0, 0, 0, ..., 0, 0, 0]]), '__header__': b'MATLAB 5.0 MAT-file Platform: posix, Created on: Fri Jan 20 17:22:25 2017', '__globals__': []}\n",
      "dict_keys(['__version__', 'testX', '__header__', '__globals__'])\n"
     ]
    }
   ],
   "source": [
    "# Read in the test file\n",
    "best_const = QDA_best_const\n",
    "test_mat = sio.loadmat(\"test.mat\")\n",
    "print(test_mat)\n",
    "print(test_mat.keys())"
   ]
  },
  {
   "cell_type": "code",
   "execution_count": 37,
   "metadata": {
    "collapsed": false
   },
   "outputs": [],
   "source": [
    "test_data = test_mat['testX']\n",
    "\n",
    "# Normalize the test data\n",
    "norm_test_data = normalize_data(test_data)\n",
    "\n",
    "predictions = QDA(norm_training_data, training_labels, norm_test_data, best_const)"
   ]
  },
  {
   "cell_type": "code",
   "execution_count": 38,
   "metadata": {
    "collapsed": true
   },
   "outputs": [],
   "source": [
    "i = 0\n",
    "with open('mnist_submission.csv', 'w', newline='') as outfile:\n",
    "    writer = csv.writer(outfile)\n",
    "    writer.writerow(['Id'] + ['Category'])\n",
    "    for num in predictions:\n",
    "        writer.writerow([i] + [num])\n",
    "        i += 1"
   ]
  },
  {
   "cell_type": "code",
   "execution_count": null,
   "metadata": {
    "collapsed": true
   },
   "outputs": [],
   "source": []
  }
 ],
 "metadata": {
  "kernelspec": {
   "display_name": "Python 3",
   "language": "python",
   "name": "python3"
  },
  "language_info": {
   "codemirror_mode": {
    "name": "ipython",
    "version": 3
   },
   "file_extension": ".py",
   "mimetype": "text/x-python",
   "name": "python",
   "nbconvert_exporter": "python",
   "pygments_lexer": "ipython3",
   "version": "3.5.2"
  }
 },
 "nbformat": 4,
 "nbformat_minor": 2
}
